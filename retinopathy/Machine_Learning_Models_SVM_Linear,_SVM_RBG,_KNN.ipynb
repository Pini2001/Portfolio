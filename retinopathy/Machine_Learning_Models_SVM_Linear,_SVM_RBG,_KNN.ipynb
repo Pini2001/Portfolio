{
  "cells": [
    {
      "cell_type": "markdown",
      "source": [
        "## **Support Vector Machines (SVM)**"
      ],
      "metadata": {
        "id": "42Z5HF1FhrwR"
      }
    },
    {
      "cell_type": "markdown",
      "source": [
        "**Support Vector Machines (SVM)** are supervised learning algorithms used to solve classification and regression problems. While they were originally developed to solve binary classification problems, over time, variants of SVMs have been developed that allow classification into multiple categories, handle nonlinear classification problems (kernels) and tackle regression problems.\n",
        "\n",
        "In a binary classification problem, the goal of SVM is to find the hyperplane that best separates the data classes. A hyperplane is a linear subspace of dimension n-1 that divides the space into two halves. The optimal hyperplane is the one that maximizes the distance between the linear separation surface (the hyperplane) and the nearest data points of each class (support vectors). The distance between the hyperplane and the support vectors is known as the margin, maximizing the margin is very important to obtain a more robust and accurate classification model. The larger the margin, the better is the separation between the two classes and hence the better is the generalization ability of the model.\n",
        "\n",
        "The previous paragraphs are based on the assumption that the data set is linearly separable, which is not always the case in practice. For this reason, the concept of kernel is introduced, a tool that allows mapping the data to a higher dimension, where it can be linearly separated. In other words, the kernel function “lifts” the data to a space where the solution hyperplane is linear, and once the solution is found, the data are transformed back to the original space. The kernel function is expressed as a scalar product between the vectors in the transformed space.\n",
        "\n",
        "Kernels used in SVM have the same objectives as linear SVM, i.e., to maximize the margin between classes and to obtain an accurate and robust classification model. The main difference is that kernels allow these goals to be achieved in more complex and nonlinearly separable feature spaces. Like the KNN model, the SVM is fed with features extracted in the GLCM such as homogeneity, entropy or energy. These data are used for diagnostic classification.\n",
        "\n",
        "Due to the uncertainty as to whether the features are linear or not and which kernel is the most appropriate, it was decided to select the Linear and Radial Basis Function (RBF), and fit the corresponding hyperparameters for each of them. In this way, we sought to determine which of the kernels best fit the data and provided the best performance when classifying."
      ],
      "metadata": {
        "id": "mJfY_AVbdh5L"
      }
    },
    {
      "cell_type": "markdown",
      "source": [
        "* LINEAR SVM is simply the dot product of the feature vectors, without applying any nonlinear transformation. This kernel is suitable for linearly separable classification problems, where the data can be separated by a straight line.\n",
        "* Gaussian kernel or RBF (Radial Basis Function) is also used for nonlinearly separable data, transforming the data into an infinite-dimensional feature space using a Gaussian function."
      ],
      "metadata": {
        "id": "Cv-BSGlceOpD"
      }
    },
    {
      "cell_type": "markdown",
      "source": [
        "### Hyperparameter"
      ],
      "metadata": {
        "id": "FHg6o5r_ieAQ"
      }
    },
    {
      "cell_type": "markdown",
      "source": [
        "A hyperparameter is a type of parameter that is not learned during the training of the algorithm, but must be previously set by the user and its choice can have a significant impact on the performance of the model. Faced with user uncertainty in the choice of hyperparameter values, techniques such as Grid Search or Random Search have been developed to find the hyperparameter values that provide the best model performance and therefore best fit the data."
      ],
      "metadata": {
        "id": "0pSjgLMloV9p"
      }
    },
    {
      "cell_type": "markdown",
      "source": [
        " In SVM, there are several important hyperparameters, which must be set before training, such as the regularization parameter C, the gamma smoothing parameter for nonlinear kernels."
      ],
      "metadata": {
        "id": "D29AOlTuiojt"
      }
    },
    {
      "cell_type": "markdown",
      "source": [
        "**Regularization parameter**"
      ],
      "metadata": {
        "id": "IIhkLyc7jOjk"
      }
    },
    {
      "cell_type": "markdown",
      "source": [
        " The regularization parameter C in SVM controls the relative importance between maximizing the margin and minimizing classification errors:\n",
        "\n",
        "           -A higher value of C gives more importance to the accuracy in classifying the training data, sacrificing a narrower margin.\n",
        "           -A lower value of C gives more importance to having a wider margin, even though it less accurately classifies the training data.\n",
        "           \n",
        "  In summary, the value of C allows fine-tuning the trade-off between classification accuracy and margin, and it is important to select an appropriate value to achieve the best model performance."
      ],
      "metadata": {
        "id": "fa0Jbm27igU4"
      }
    },
    {
      "cell_type": "markdown",
      "source": [
        "**Gamma parameter**"
      ],
      "metadata": {
        "id": "mXHh1g6SjSyH"
      }
    },
    {
      "cell_type": "markdown",
      "source": [
        "The gamma parameter controls the flexibility of the model and how the training points influence the position and shape of the hyperplane\n",
        "\n",
        "           -A low value of gamma indicates that the model is less sensitive to nearby data points, which may result in a smoother, more generalizable decision boundary.\n",
        "           -A high value of gamma indicates that the model is more sensitive to nearby data points, which may cause the model to overfit the training data and perform worse on test data."
      ],
      "metadata": {
        "id": "0FR_8k9JeZ_w"
      }
    },
    {
      "cell_type": "markdown",
      "source": [
        "## **K-Nearest Neighbors (KNN)**"
      ],
      "metadata": {
        "id": "HKUn-585ndmF"
      }
    },
    {
      "cell_type": "markdown",
      "source": [
        "K-Nearest Neighbors (KNN) is an algorithm, which is used in both classification and regression problems. This nonparametric method neither assumes a particular distribution of the data nor estimates prior parameters of the distribution, but is based on the spatial proximity of the data. It uses nearest neighbor information to make predictions about the “label” or class to which the data belongs, either through the majority of classes (label majority) or the average of the nearest neighbor response values.\n",
        "\n",
        "A similarity or distance measure is used to determine which data are considered “close” in the feature space. The choice of similarity measure depends on the specific characteristics of the data and the problem being solved. The most commonly used similarity measures are the Euclidean distance and the Manhattan distance, although others exist. The Euclidean distance (p=2) calculates the distance between two points in n-dimensional space using the formula that measures a straight line between the query point and the other point being measured. On the other hand, the Manhattan distance (p=1) measures the absolute value between two points.\n",
        "\n",
        "The distance function is one of the hyperparameters of the KNN model. In addition to the distance function, it is necessary to choose other hyperparameters such as K, which is the number of nearest neighbors to be considered for classification. The search algorithm to be used to find the nearest neighbors to an input data instance, among others."
      ],
      "metadata": {
        "id": "W5MHfLyDnZBI"
      }
    },
    {
      "cell_type": "markdown",
      "source": [
        "## Hyper-param optimization"
      ],
      "metadata": {
        "id": "b2QskhixpixP"
      }
    },
    {
      "cell_type": "markdown",
      "source": [
        "To adjust the hyperparameters of the model, we will use the Random Search technique, commonly used in machine learning to find the optimal combination of hyperparameters for a model. First, we define a grid containing a list of all possible values we want to test for each hyperparameter. Then, we divide the data into three sets: training, validation and testing.\n",
        "\n",
        "As we mentioned earlier the hyperparameters must be adjusted before training the model, so it is very important to divide the data into different sets."
      ],
      "metadata": {
        "id": "NMmy7y6LqRHs"
      }
    },
    {
      "cell_type": "markdown",
      "source": [
        "The model training process involves the division of the training set into two internal sets: a training set and a validation set.\n",
        "\n",
        "         -The training set is used to train the model on different combinations of hyperparameters\n",
        "         -The validation set is used to evaluate the model's performance on each combination and select the combination that gives the best performance on the validation set.\n",
        "         \n",
        "The selected hyperparameter combination is then applied to train the model and evaluate the performance of the final model on a completely new data set, the test set."
      ],
      "metadata": {
        "id": "SLglp3Xzqe2l"
      }
    },
    {
      "cell_type": "markdown",
      "source": [
        "**Evaluation**\n",
        "\n",
        "Internal evaluation is employed by dividing the training data set into a training set and a validation set (both internal) using K-fold cross validation (with k=5). In the training (internal) set, a randomized search for the best parameters for the model is performed with (RandomizedSearchCV) and its performance is evaluated in the validation (internal) set using the accuracy metric.\n",
        "\n",
        "The external evaluation is performed using the full training data set using K-fold cross validation (with k=10). In each iteration of the loop, the training set is divided into 10 parts, of which 9 are used to train the model and 1 is used as the validation set. The optimal parameters obtained in the internal validation are used to train the model on the external training set (75% images) and then evaluate the model performance on an external test set (25% images) that has not been used in any of the previous phases, using the accuracy, sensitivity, specificity and precision metrics of the model on the external test set.\n"
      ],
      "metadata": {
        "id": "Cx0gsx1qsECR"
      }
    },
    {
      "cell_type": "markdown",
      "source": [
        "## Data and EDA"
      ],
      "metadata": {
        "id": "YHWFFeMPkteZ"
      }
    },
    {
      "cell_type": "code",
      "execution_count": null,
      "metadata": {
        "id": "YYLEBK3K7tsc",
        "colab": {
          "base_uri": "https://localhost:8080/"
        },
        "outputId": "2426ebd4-f8fc-42d0-aebd-2f005ca356c4",
        "collapsed": true
      },
      "outputs": [
        {
          "output_type": "stream",
          "name": "stdout",
          "text": [
            "Looking in indexes: https://pypi.org/simple, https://us-python.pkg.dev/colab-wheels/public/simple/\n",
            "Requirement already satisfied: google-colab in /usr/local/lib/python3.10/dist-packages (1.0.0)\n",
            "Requirement already satisfied: google-auth>=1.17.2 in /usr/local/lib/python3.10/dist-packages (from google-colab) (2.17.3)\n",
            "Requirement already satisfied: ipykernel~=5.5.6 in /usr/local/lib/python3.10/dist-packages (from google-colab) (5.5.6)\n",
            "Requirement already satisfied: ipython~=7.34.0 in /usr/local/lib/python3.10/dist-packages (from google-colab) (7.34.0)\n",
            "Requirement already satisfied: notebook==6.4.8 in /usr/local/lib/python3.10/dist-packages (from google-colab) (6.4.8)\n",
            "Requirement already satisfied: pandas~=1.5.3 in /usr/local/lib/python3.10/dist-packages (from google-colab) (1.5.3)\n",
            "Requirement already satisfied: portpicker~=1.3.1 in /usr/local/lib/python3.10/dist-packages (from google-colab) (1.3.9)\n",
            "Requirement already satisfied: requests>=2.27.0 in /usr/local/lib/python3.10/dist-packages (from google-colab) (2.27.1)\n",
            "Requirement already satisfied: tornado~=6.3.0 in /usr/local/lib/python3.10/dist-packages (from google-colab) (6.3.1)\n",
            "Requirement already satisfied: jinja2 in /usr/local/lib/python3.10/dist-packages (from notebook==6.4.8->google-colab) (3.1.2)\n",
            "Requirement already satisfied: pyzmq>=17 in /usr/local/lib/python3.10/dist-packages (from notebook==6.4.8->google-colab) (23.2.1)\n",
            "Requirement already satisfied: argon2-cffi in /usr/local/lib/python3.10/dist-packages (from notebook==6.4.8->google-colab) (21.3.0)\n",
            "Requirement already satisfied: ipython-genutils in /usr/local/lib/python3.10/dist-packages (from notebook==6.4.8->google-colab) (0.2.0)\n",
            "Requirement already satisfied: traitlets>=4.2.1 in /usr/local/lib/python3.10/dist-packages (from notebook==6.4.8->google-colab) (5.7.1)\n",
            "Requirement already satisfied: jupyter-core>=4.6.1 in /usr/local/lib/python3.10/dist-packages (from notebook==6.4.8->google-colab) (5.3.0)\n",
            "Requirement already satisfied: jupyter-client>=5.3.4 in /usr/local/lib/python3.10/dist-packages (from notebook==6.4.8->google-colab) (6.1.12)\n",
            "Requirement already satisfied: nbformat in /usr/local/lib/python3.10/dist-packages (from notebook==6.4.8->google-colab) (5.8.0)\n",
            "Requirement already satisfied: nbconvert in /usr/local/lib/python3.10/dist-packages (from notebook==6.4.8->google-colab) (6.5.4)\n",
            "Requirement already satisfied: nest-asyncio>=1.5 in /usr/local/lib/python3.10/dist-packages (from notebook==6.4.8->google-colab) (1.5.6)\n",
            "Requirement already satisfied: Send2Trash>=1.8.0 in /usr/local/lib/python3.10/dist-packages (from notebook==6.4.8->google-colab) (1.8.0)\n",
            "Requirement already satisfied: terminado>=0.8.3 in /usr/local/lib/python3.10/dist-packages (from notebook==6.4.8->google-colab) (0.17.1)\n",
            "Requirement already satisfied: prometheus-client in /usr/local/lib/python3.10/dist-packages (from notebook==6.4.8->google-colab) (0.16.0)\n",
            "Requirement already satisfied: cachetools<6.0,>=2.0.0 in /usr/local/lib/python3.10/dist-packages (from google-auth>=1.17.2->google-colab) (5.3.0)\n",
            "Requirement already satisfied: pyasn1-modules>=0.2.1 in /usr/local/lib/python3.10/dist-packages (from google-auth>=1.17.2->google-colab) (0.3.0)\n",
            "Requirement already satisfied: six>=1.9.0 in /usr/local/lib/python3.10/dist-packages (from google-auth>=1.17.2->google-colab) (1.16.0)\n",
            "Requirement already satisfied: rsa<5,>=3.1.4 in /usr/local/lib/python3.10/dist-packages (from google-auth>=1.17.2->google-colab) (4.9)\n",
            "Requirement already satisfied: setuptools>=18.5 in /usr/local/lib/python3.10/dist-packages (from ipython~=7.34.0->google-colab) (67.7.2)\n",
            "Collecting jedi>=0.16 (from ipython~=7.34.0->google-colab)\n",
            "  Downloading jedi-0.18.2-py2.py3-none-any.whl (1.6 MB)\n",
            "\u001b[2K     \u001b[90m━━━━━━━━━━━━━━━━━━━━━━━━━━━━━━━━━━━━━━━━\u001b[0m \u001b[32m1.6/1.6 MB\u001b[0m \u001b[31m16.1 MB/s\u001b[0m eta \u001b[36m0:00:00\u001b[0m\n",
            "\u001b[?25hRequirement already satisfied: decorator in /usr/local/lib/python3.10/dist-packages (from ipython~=7.34.0->google-colab) (4.4.2)\n",
            "Requirement already satisfied: pickleshare in /usr/local/lib/python3.10/dist-packages (from ipython~=7.34.0->google-colab) (0.7.5)\n",
            "Requirement already satisfied: prompt-toolkit!=3.0.0,!=3.0.1,<3.1.0,>=2.0.0 in /usr/local/lib/python3.10/dist-packages (from ipython~=7.34.0->google-colab) (3.0.38)\n",
            "Requirement already satisfied: pygments in /usr/local/lib/python3.10/dist-packages (from ipython~=7.34.0->google-colab) (2.14.0)\n",
            "Requirement already satisfied: backcall in /usr/local/lib/python3.10/dist-packages (from ipython~=7.34.0->google-colab) (0.2.0)\n",
            "Requirement already satisfied: matplotlib-inline in /usr/local/lib/python3.10/dist-packages (from ipython~=7.34.0->google-colab) (0.1.6)\n",
            "Requirement already satisfied: pexpect>4.3 in /usr/local/lib/python3.10/dist-packages (from ipython~=7.34.0->google-colab) (4.8.0)\n",
            "Requirement already satisfied: python-dateutil>=2.8.1 in /usr/local/lib/python3.10/dist-packages (from pandas~=1.5.3->google-colab) (2.8.2)\n",
            "Requirement already satisfied: pytz>=2020.1 in /usr/local/lib/python3.10/dist-packages (from pandas~=1.5.3->google-colab) (2022.7.1)\n",
            "Requirement already satisfied: numpy>=1.21.0 in /usr/local/lib/python3.10/dist-packages (from pandas~=1.5.3->google-colab) (1.22.4)\n",
            "Requirement already satisfied: urllib3<1.27,>=1.21.1 in /usr/local/lib/python3.10/dist-packages (from requests>=2.27.0->google-colab) (1.26.15)\n",
            "Requirement already satisfied: certifi>=2017.4.17 in /usr/local/lib/python3.10/dist-packages (from requests>=2.27.0->google-colab) (2022.12.7)\n",
            "Requirement already satisfied: charset-normalizer~=2.0.0 in /usr/local/lib/python3.10/dist-packages (from requests>=2.27.0->google-colab) (2.0.12)\n",
            "Requirement already satisfied: idna<4,>=2.5 in /usr/local/lib/python3.10/dist-packages (from requests>=2.27.0->google-colab) (3.4)\n",
            "Requirement already satisfied: parso<0.9.0,>=0.8.0 in /usr/local/lib/python3.10/dist-packages (from jedi>=0.16->ipython~=7.34.0->google-colab) (0.8.3)\n",
            "Requirement already satisfied: platformdirs>=2.5 in /usr/local/lib/python3.10/dist-packages (from jupyter-core>=4.6.1->notebook==6.4.8->google-colab) (3.3.0)\n",
            "Requirement already satisfied: ptyprocess>=0.5 in /usr/local/lib/python3.10/dist-packages (from pexpect>4.3->ipython~=7.34.0->google-colab) (0.7.0)\n",
            "Requirement already satisfied: wcwidth in /usr/local/lib/python3.10/dist-packages (from prompt-toolkit!=3.0.0,!=3.0.1,<3.1.0,>=2.0.0->ipython~=7.34.0->google-colab) (0.2.6)\n",
            "Requirement already satisfied: pyasn1<0.6.0,>=0.4.6 in /usr/local/lib/python3.10/dist-packages (from pyasn1-modules>=0.2.1->google-auth>=1.17.2->google-colab) (0.5.0)\n",
            "Requirement already satisfied: argon2-cffi-bindings in /usr/local/lib/python3.10/dist-packages (from argon2-cffi->notebook==6.4.8->google-colab) (21.2.0)\n",
            "Requirement already satisfied: MarkupSafe>=2.0 in /usr/local/lib/python3.10/dist-packages (from jinja2->notebook==6.4.8->google-colab) (2.1.2)\n",
            "Requirement already satisfied: lxml in /usr/local/lib/python3.10/dist-packages (from nbconvert->notebook==6.4.8->google-colab) (4.9.2)\n",
            "Requirement already satisfied: beautifulsoup4 in /usr/local/lib/python3.10/dist-packages (from nbconvert->notebook==6.4.8->google-colab) (4.11.2)\n",
            "Requirement already satisfied: bleach in /usr/local/lib/python3.10/dist-packages (from nbconvert->notebook==6.4.8->google-colab) (6.0.0)\n",
            "Requirement already satisfied: defusedxml in /usr/local/lib/python3.10/dist-packages (from nbconvert->notebook==6.4.8->google-colab) (0.7.1)\n",
            "Requirement already satisfied: entrypoints>=0.2.2 in /usr/local/lib/python3.10/dist-packages (from nbconvert->notebook==6.4.8->google-colab) (0.4)\n",
            "Requirement already satisfied: jupyterlab-pygments in /usr/local/lib/python3.10/dist-packages (from nbconvert->notebook==6.4.8->google-colab) (0.2.2)\n",
            "Requirement already satisfied: mistune<2,>=0.8.1 in /usr/local/lib/python3.10/dist-packages (from nbconvert->notebook==6.4.8->google-colab) (0.8.4)\n",
            "Requirement already satisfied: nbclient>=0.5.0 in /usr/local/lib/python3.10/dist-packages (from nbconvert->notebook==6.4.8->google-colab) (0.7.4)\n",
            "Requirement already satisfied: packaging in /usr/local/lib/python3.10/dist-packages (from nbconvert->notebook==6.4.8->google-colab) (23.1)\n",
            "Requirement already satisfied: pandocfilters>=1.4.1 in /usr/local/lib/python3.10/dist-packages (from nbconvert->notebook==6.4.8->google-colab) (1.5.0)\n",
            "Requirement already satisfied: tinycss2 in /usr/local/lib/python3.10/dist-packages (from nbconvert->notebook==6.4.8->google-colab) (1.2.1)\n",
            "Requirement already satisfied: fastjsonschema in /usr/local/lib/python3.10/dist-packages (from nbformat->notebook==6.4.8->google-colab) (2.16.3)\n",
            "Requirement already satisfied: jsonschema>=2.6 in /usr/local/lib/python3.10/dist-packages (from nbformat->notebook==6.4.8->google-colab) (4.3.3)\n",
            "Requirement already satisfied: attrs>=17.4.0 in /usr/local/lib/python3.10/dist-packages (from jsonschema>=2.6->nbformat->notebook==6.4.8->google-colab) (23.1.0)\n",
            "Requirement already satisfied: pyrsistent!=0.17.0,!=0.17.1,!=0.17.2,>=0.14.0 in /usr/local/lib/python3.10/dist-packages (from jsonschema>=2.6->nbformat->notebook==6.4.8->google-colab) (0.19.3)\n",
            "Requirement already satisfied: cffi>=1.0.1 in /usr/local/lib/python3.10/dist-packages (from argon2-cffi-bindings->argon2-cffi->notebook==6.4.8->google-colab) (1.15.1)\n",
            "Requirement already satisfied: soupsieve>1.2 in /usr/local/lib/python3.10/dist-packages (from beautifulsoup4->nbconvert->notebook==6.4.8->google-colab) (2.4.1)\n",
            "Requirement already satisfied: webencodings in /usr/local/lib/python3.10/dist-packages (from bleach->nbconvert->notebook==6.4.8->google-colab) (0.5.1)\n",
            "Requirement already satisfied: pycparser in /usr/local/lib/python3.10/dist-packages (from cffi>=1.0.1->argon2-cffi-bindings->argon2-cffi->notebook==6.4.8->google-colab) (2.21)\n",
            "Installing collected packages: jedi\n",
            "Successfully installed jedi-0.18.2\n"
          ]
        }
      ],
      "source": [
        "!pip install google-colab"
      ]
    },
    {
      "cell_type": "code",
      "execution_count": null,
      "metadata": {
        "colab": {
          "base_uri": "https://localhost:8080/"
        },
        "id": "PG7RHCkJh5Hf",
        "outputId": "7e476887-152d-4f12-9c9b-9941fbd16c1e"
      },
      "outputs": [
        {
          "output_type": "stream",
          "name": "stdout",
          "text": [
            "Looking in indexes: https://pypi.org/simple, https://us-python.pkg.dev/colab-wheels/public/simple/\n",
            "Requirement already satisfied: scikit-learn in /usr/local/lib/python3.10/dist-packages (1.2.2)\n",
            "Requirement already satisfied: numpy>=1.17.3 in /usr/local/lib/python3.10/dist-packages (from scikit-learn) (1.22.4)\n",
            "Requirement already satisfied: scipy>=1.3.2 in /usr/local/lib/python3.10/dist-packages (from scikit-learn) (1.10.1)\n",
            "Requirement already satisfied: joblib>=1.1.1 in /usr/local/lib/python3.10/dist-packages (from scikit-learn) (1.2.0)\n",
            "Requirement already satisfied: threadpoolctl>=2.0.0 in /usr/local/lib/python3.10/dist-packages (from scikit-learn) (3.1.0)\n"
          ]
        }
      ],
      "source": [
        "pip install -U scikit-learn\n"
      ]
    },
    {
      "cell_type": "code",
      "execution_count": null,
      "metadata": {
        "id": "2UJDvTJF7ziy",
        "colab": {
          "base_uri": "https://localhost:8080/"
        },
        "outputId": "8c769c66-18f2-4564-cada-ce0fed07d347"
      },
      "outputs": [
        {
          "output_type": "stream",
          "name": "stdout",
          "text": [
            "Mounted at /content/drive\n"
          ]
        }
      ],
      "source": [
        "from google.colab import drive\n",
        "drive.mount('/content/drive')"
      ]
    },
    {
      "cell_type": "code",
      "execution_count": null,
      "metadata": {
        "id": "9hWUuJSC71WB"
      },
      "outputs": [],
      "source": [
        "import pandas as pd\n",
        "import numpy as np\n",
        "import seaborn as sns\n",
        "import matplotlib.pyplot as plt\n",
        "import os\n",
        "from zipfile import ZipFile\n",
        "from PIL import Image\n",
        "from skimage import data, io, color\n",
        "import sys\n",
        "import cv2\n",
        "from cv2 import cvtColor\n",
        "from skimage.feature import greycomatrix, greycoprops"
      ]
    },
    {
      "cell_type": "code",
      "execution_count": null,
      "metadata": {
        "id": "oWHlP62p_vsA"
      },
      "outputs": [],
      "source": [
        "import seaborn as sns\n",
        "from sklearn import preprocessing\n",
        "# Allows us to split our data into training and testing data\n",
        "from sklearn.model_selection import train_test_split\n",
        "# Allows us to test parameters of classification algorithms and find the best one\n",
        "from sklearn.model_selection import GridSearchCV\n",
        "# Logistic Regression classification algorithm\n",
        "from sklearn.linear_model import LogisticRegression\n",
        "# Support Vector Machine classification algorithm\n",
        "from sklearn.svm import SVC\n",
        "# Decision Tree classification algorithm\n",
        "from sklearn.tree import DecisionTreeClassifier\n",
        "# K Nearest Neighbors classification algorithm\n",
        "from sklearn.neighbors import KNeighborsClassifier\n",
        "from sklearn.metrics import confusion_matrix\n",
        "from sklearn import svm\n",
        "from tqdm import tqdm\n",
        "from sklearn.model_selection import KFold\n",
        "from sklearn.model_selection import RandomizedSearchCV"
      ]
    },
    {
      "cell_type": "code",
      "execution_count": null,
      "metadata": {
        "id": "Ebu7aPat726W"
      },
      "outputs": [],
      "source": [
        "train_csv = '/content/drive/MyDrive/train.csv'\n",
        "train_images= '/content/drive/MyDrive/train_images.zip'"
      ]
    },
    {
      "cell_type": "code",
      "execution_count": null,
      "metadata": {
        "id": "Lh3b9F4V75w0"
      },
      "outputs": [],
      "source": [
        "with ZipFile('/content/drive/MyDrive/train_images.zip', 'r') as zip_ref:\n",
        "    # Loop through all files in the zip file\n",
        "    for filename in zip_ref.namelist():\n",
        "        # Check if the file is an image (you may want to adjust this based on your image file types)\n",
        "        if filename.endswith('.png'):\n",
        "            # Extract the image file to a temporary location if the directory 'DR' doesn't already exist\n",
        "            if not os.path.exists('DR'):\n",
        "                os.makedirs('DR')\n",
        "                zip_ref.extract(filename, path='DR')\n",
        "            else:\n",
        "                if not os.path.exists(f'DR/{filename}'):\n",
        "                    zip_ref.extract(filename, path='DR')"
      ]
    },
    {
      "cell_type": "code",
      "execution_count": null,
      "metadata": {
        "id": "SLRRlkxs76Sr",
        "colab": {
          "base_uri": "https://localhost:8080/",
          "height": 224
        },
        "outputId": "f610db2b-382b-4740-a828-0f1028805ca7"
      },
      "outputs": [
        {
          "output_type": "stream",
          "name": "stdout",
          "text": [
            "There are 3662 rows and 3 columns in the training set\n"
          ]
        },
        {
          "output_type": "execute_result",
          "data": {
            "text/plain": [
              "        id_code  diagnosis labels\n",
              "0  000c1434d8d7        2.0     Si\n",
              "1  001639a390f0        4.0     Si\n",
              "2  0024cdab0c1e        1.0     Si\n",
              "3  002c21358ce6        0.0     No\n",
              "4  005b95c28852        0.0     No"
            ],
            "text/html": [
              "\n",
              "  <div id=\"df-38241bcc-831b-4f0c-894b-ee133a6124cc\">\n",
              "    <div class=\"colab-df-container\">\n",
              "      <div>\n",
              "<style scoped>\n",
              "    .dataframe tbody tr th:only-of-type {\n",
              "        vertical-align: middle;\n",
              "    }\n",
              "\n",
              "    .dataframe tbody tr th {\n",
              "        vertical-align: top;\n",
              "    }\n",
              "\n",
              "    .dataframe thead th {\n",
              "        text-align: right;\n",
              "    }\n",
              "</style>\n",
              "<table border=\"1\" class=\"dataframe\">\n",
              "  <thead>\n",
              "    <tr style=\"text-align: right;\">\n",
              "      <th></th>\n",
              "      <th>id_code</th>\n",
              "      <th>diagnosis</th>\n",
              "      <th>labels</th>\n",
              "    </tr>\n",
              "  </thead>\n",
              "  <tbody>\n",
              "    <tr>\n",
              "      <th>0</th>\n",
              "      <td>000c1434d8d7</td>\n",
              "      <td>2.0</td>\n",
              "      <td>Si</td>\n",
              "    </tr>\n",
              "    <tr>\n",
              "      <th>1</th>\n",
              "      <td>001639a390f0</td>\n",
              "      <td>4.0</td>\n",
              "      <td>Si</td>\n",
              "    </tr>\n",
              "    <tr>\n",
              "      <th>2</th>\n",
              "      <td>0024cdab0c1e</td>\n",
              "      <td>1.0</td>\n",
              "      <td>Si</td>\n",
              "    </tr>\n",
              "    <tr>\n",
              "      <th>3</th>\n",
              "      <td>002c21358ce6</td>\n",
              "      <td>0.0</td>\n",
              "      <td>No</td>\n",
              "    </tr>\n",
              "    <tr>\n",
              "      <th>4</th>\n",
              "      <td>005b95c28852</td>\n",
              "      <td>0.0</td>\n",
              "      <td>No</td>\n",
              "    </tr>\n",
              "  </tbody>\n",
              "</table>\n",
              "</div>\n",
              "      <button class=\"colab-df-convert\" onclick=\"convertToInteractive('df-38241bcc-831b-4f0c-894b-ee133a6124cc')\"\n",
              "              title=\"Convert this dataframe to an interactive table.\"\n",
              "              style=\"display:none;\">\n",
              "        \n",
              "  <svg xmlns=\"http://www.w3.org/2000/svg\" height=\"24px\"viewBox=\"0 0 24 24\"\n",
              "       width=\"24px\">\n",
              "    <path d=\"M0 0h24v24H0V0z\" fill=\"none\"/>\n",
              "    <path d=\"M18.56 5.44l.94 2.06.94-2.06 2.06-.94-2.06-.94-.94-2.06-.94 2.06-2.06.94zm-11 1L8.5 8.5l.94-2.06 2.06-.94-2.06-.94L8.5 2.5l-.94 2.06-2.06.94zm10 10l.94 2.06.94-2.06 2.06-.94-2.06-.94-.94-2.06-.94 2.06-2.06.94z\"/><path d=\"M17.41 7.96l-1.37-1.37c-.4-.4-.92-.59-1.43-.59-.52 0-1.04.2-1.43.59L10.3 9.45l-7.72 7.72c-.78.78-.78 2.05 0 2.83L4 21.41c.39.39.9.59 1.41.59.51 0 1.02-.2 1.41-.59l7.78-7.78 2.81-2.81c.8-.78.8-2.07 0-2.86zM5.41 20L4 18.59l7.72-7.72 1.47 1.35L5.41 20z\"/>\n",
              "  </svg>\n",
              "      </button>\n",
              "      \n",
              "  <style>\n",
              "    .colab-df-container {\n",
              "      display:flex;\n",
              "      flex-wrap:wrap;\n",
              "      gap: 12px;\n",
              "    }\n",
              "\n",
              "    .colab-df-convert {\n",
              "      background-color: #E8F0FE;\n",
              "      border: none;\n",
              "      border-radius: 50%;\n",
              "      cursor: pointer;\n",
              "      display: none;\n",
              "      fill: #1967D2;\n",
              "      height: 32px;\n",
              "      padding: 0 0 0 0;\n",
              "      width: 32px;\n",
              "    }\n",
              "\n",
              "    .colab-df-convert:hover {\n",
              "      background-color: #E2EBFA;\n",
              "      box-shadow: 0px 1px 2px rgba(60, 64, 67, 0.3), 0px 1px 3px 1px rgba(60, 64, 67, 0.15);\n",
              "      fill: #174EA6;\n",
              "    }\n",
              "\n",
              "    [theme=dark] .colab-df-convert {\n",
              "      background-color: #3B4455;\n",
              "      fill: #D2E3FC;\n",
              "    }\n",
              "\n",
              "    [theme=dark] .colab-df-convert:hover {\n",
              "      background-color: #434B5C;\n",
              "      box-shadow: 0px 1px 3px 1px rgba(0, 0, 0, 0.15);\n",
              "      filter: drop-shadow(0px 1px 2px rgba(0, 0, 0, 0.3));\n",
              "      fill: #FFFFFF;\n",
              "    }\n",
              "  </style>\n",
              "\n",
              "      <script>\n",
              "        const buttonEl =\n",
              "          document.querySelector('#df-38241bcc-831b-4f0c-894b-ee133a6124cc button.colab-df-convert');\n",
              "        buttonEl.style.display =\n",
              "          google.colab.kernel.accessAllowed ? 'block' : 'none';\n",
              "\n",
              "        async function convertToInteractive(key) {\n",
              "          const element = document.querySelector('#df-38241bcc-831b-4f0c-894b-ee133a6124cc');\n",
              "          const dataTable =\n",
              "            await google.colab.kernel.invokeFunction('convertToInteractive',\n",
              "                                                     [key], {});\n",
              "          if (!dataTable) return;\n",
              "\n",
              "          const docLinkHtml = 'Like what you see? Visit the ' +\n",
              "            '<a target=\"_blank\" href=https://colab.research.google.com/notebooks/data_table.ipynb>data table notebook</a>'\n",
              "            + ' to learn more about interactive tables.';\n",
              "          element.innerHTML = '';\n",
              "          dataTable['output_type'] = 'display_data';\n",
              "          await google.colab.output.renderOutput(dataTable, element);\n",
              "          const docLink = document.createElement('div');\n",
              "          docLink.innerHTML = docLinkHtml;\n",
              "          element.appendChild(docLink);\n",
              "        }\n",
              "      </script>\n",
              "    </div>\n",
              "  </div>\n",
              "  "
            ]
          },
          "metadata": {},
          "execution_count": 6
        }
      ],
      "source": [
        "train = pd.read_csv(train_csv, delimiter=',')\n",
        "#Creating column\n",
        "train['labels']= np.where(train['diagnosis'] == 0, 'No', 'Si')\n",
        "train.dataframeName = 'train.csv'\n",
        "nRow, nCol = train.shape\n",
        "print(f'There are {nRow} rows and {nCol} columns in the training set')\n",
        "#len(df.columns)\n",
        "train.head()"
      ]
    },
    {
      "cell_type": "code",
      "execution_count": null,
      "metadata": {
        "id": "V-suiV7_nbGz",
        "colab": {
          "base_uri": "https://localhost:8080/"
        },
        "outputId": "1a16dd56-0ea2-4327-ac71-b16211689777"
      },
      "outputs": [
        {
          "output_type": "stream",
          "name": "stdout",
          "text": [
            "int64\n"
          ]
        }
      ],
      "source": [
        "train['diagnosis'] = train['diagnosis'].astype(int)\n",
        "print(train['diagnosis'].dtype)"
      ]
    },
    {
      "cell_type": "code",
      "execution_count": null,
      "metadata": {
        "id": "P5r1Mt8anjU4",
        "colab": {
          "base_uri": "https://localhost:8080/"
        },
        "outputId": "1e2daaea-b476-4d47-a1b4-35dc66d7a71c"
      },
      "outputs": [
        {
          "output_type": "stream",
          "name": "stdout",
          "text": [
            "[12  1]\n"
          ]
        }
      ],
      "source": [
        "train['id_length'] = train['id_code'].str.len()\n",
        "print(train['id_length'].unique())"
      ]
    },
    {
      "cell_type": "code",
      "execution_count": null,
      "metadata": {
        "id": "OrdHMVgWnm8X"
      },
      "outputs": [],
      "source": [
        "train = train[train['id_length'] != 1]"
      ]
    },
    {
      "cell_type": "code",
      "execution_count": null,
      "metadata": {
        "id": "pWmjCalU1JPC",
        "colab": {
          "base_uri": "https://localhost:8080/",
          "height": 423
        },
        "outputId": "b6238b55-23a3-4b55-d164-76cfcb2c20e7"
      },
      "outputs": [
        {
          "output_type": "execute_result",
          "data": {
            "text/plain": [
              "           id_code  diagnosis labels  id_length\n",
              "0     000c1434d8d7          2     Si         12\n",
              "1     001639a390f0          4     Si         12\n",
              "2     0024cdab0c1e          1     Si         12\n",
              "3     002c21358ce6          0     No         12\n",
              "4     005b95c28852          0     No         12\n",
              "...            ...        ...    ...        ...\n",
              "3657  ffa47f6a7bf4          2     Si         12\n",
              "3658  ffc04fed30e6          0     No         12\n",
              "3659  ffcf7b45f213          2     Si         12\n",
              "3660  ffd97f8cd5aa          0     No         12\n",
              "3661  ffec9a18a3ce          2     Si         12\n",
              "\n",
              "[3653 rows x 4 columns]"
            ],
            "text/html": [
              "\n",
              "  <div id=\"df-47980c7e-f1ed-41ab-aae9-19ff675667ab\">\n",
              "    <div class=\"colab-df-container\">\n",
              "      <div>\n",
              "<style scoped>\n",
              "    .dataframe tbody tr th:only-of-type {\n",
              "        vertical-align: middle;\n",
              "    }\n",
              "\n",
              "    .dataframe tbody tr th {\n",
              "        vertical-align: top;\n",
              "    }\n",
              "\n",
              "    .dataframe thead th {\n",
              "        text-align: right;\n",
              "    }\n",
              "</style>\n",
              "<table border=\"1\" class=\"dataframe\">\n",
              "  <thead>\n",
              "    <tr style=\"text-align: right;\">\n",
              "      <th></th>\n",
              "      <th>id_code</th>\n",
              "      <th>diagnosis</th>\n",
              "      <th>labels</th>\n",
              "      <th>id_length</th>\n",
              "    </tr>\n",
              "  </thead>\n",
              "  <tbody>\n",
              "    <tr>\n",
              "      <th>0</th>\n",
              "      <td>000c1434d8d7</td>\n",
              "      <td>2</td>\n",
              "      <td>Si</td>\n",
              "      <td>12</td>\n",
              "    </tr>\n",
              "    <tr>\n",
              "      <th>1</th>\n",
              "      <td>001639a390f0</td>\n",
              "      <td>4</td>\n",
              "      <td>Si</td>\n",
              "      <td>12</td>\n",
              "    </tr>\n",
              "    <tr>\n",
              "      <th>2</th>\n",
              "      <td>0024cdab0c1e</td>\n",
              "      <td>1</td>\n",
              "      <td>Si</td>\n",
              "      <td>12</td>\n",
              "    </tr>\n",
              "    <tr>\n",
              "      <th>3</th>\n",
              "      <td>002c21358ce6</td>\n",
              "      <td>0</td>\n",
              "      <td>No</td>\n",
              "      <td>12</td>\n",
              "    </tr>\n",
              "    <tr>\n",
              "      <th>4</th>\n",
              "      <td>005b95c28852</td>\n",
              "      <td>0</td>\n",
              "      <td>No</td>\n",
              "      <td>12</td>\n",
              "    </tr>\n",
              "    <tr>\n",
              "      <th>...</th>\n",
              "      <td>...</td>\n",
              "      <td>...</td>\n",
              "      <td>...</td>\n",
              "      <td>...</td>\n",
              "    </tr>\n",
              "    <tr>\n",
              "      <th>3657</th>\n",
              "      <td>ffa47f6a7bf4</td>\n",
              "      <td>2</td>\n",
              "      <td>Si</td>\n",
              "      <td>12</td>\n",
              "    </tr>\n",
              "    <tr>\n",
              "      <th>3658</th>\n",
              "      <td>ffc04fed30e6</td>\n",
              "      <td>0</td>\n",
              "      <td>No</td>\n",
              "      <td>12</td>\n",
              "    </tr>\n",
              "    <tr>\n",
              "      <th>3659</th>\n",
              "      <td>ffcf7b45f213</td>\n",
              "      <td>2</td>\n",
              "      <td>Si</td>\n",
              "      <td>12</td>\n",
              "    </tr>\n",
              "    <tr>\n",
              "      <th>3660</th>\n",
              "      <td>ffd97f8cd5aa</td>\n",
              "      <td>0</td>\n",
              "      <td>No</td>\n",
              "      <td>12</td>\n",
              "    </tr>\n",
              "    <tr>\n",
              "      <th>3661</th>\n",
              "      <td>ffec9a18a3ce</td>\n",
              "      <td>2</td>\n",
              "      <td>Si</td>\n",
              "      <td>12</td>\n",
              "    </tr>\n",
              "  </tbody>\n",
              "</table>\n",
              "<p>3653 rows × 4 columns</p>\n",
              "</div>\n",
              "      <button class=\"colab-df-convert\" onclick=\"convertToInteractive('df-47980c7e-f1ed-41ab-aae9-19ff675667ab')\"\n",
              "              title=\"Convert this dataframe to an interactive table.\"\n",
              "              style=\"display:none;\">\n",
              "        \n",
              "  <svg xmlns=\"http://www.w3.org/2000/svg\" height=\"24px\"viewBox=\"0 0 24 24\"\n",
              "       width=\"24px\">\n",
              "    <path d=\"M0 0h24v24H0V0z\" fill=\"none\"/>\n",
              "    <path d=\"M18.56 5.44l.94 2.06.94-2.06 2.06-.94-2.06-.94-.94-2.06-.94 2.06-2.06.94zm-11 1L8.5 8.5l.94-2.06 2.06-.94-2.06-.94L8.5 2.5l-.94 2.06-2.06.94zm10 10l.94 2.06.94-2.06 2.06-.94-2.06-.94-.94-2.06-.94 2.06-2.06.94z\"/><path d=\"M17.41 7.96l-1.37-1.37c-.4-.4-.92-.59-1.43-.59-.52 0-1.04.2-1.43.59L10.3 9.45l-7.72 7.72c-.78.78-.78 2.05 0 2.83L4 21.41c.39.39.9.59 1.41.59.51 0 1.02-.2 1.41-.59l7.78-7.78 2.81-2.81c.8-.78.8-2.07 0-2.86zM5.41 20L4 18.59l7.72-7.72 1.47 1.35L5.41 20z\"/>\n",
              "  </svg>\n",
              "      </button>\n",
              "      \n",
              "  <style>\n",
              "    .colab-df-container {\n",
              "      display:flex;\n",
              "      flex-wrap:wrap;\n",
              "      gap: 12px;\n",
              "    }\n",
              "\n",
              "    .colab-df-convert {\n",
              "      background-color: #E8F0FE;\n",
              "      border: none;\n",
              "      border-radius: 50%;\n",
              "      cursor: pointer;\n",
              "      display: none;\n",
              "      fill: #1967D2;\n",
              "      height: 32px;\n",
              "      padding: 0 0 0 0;\n",
              "      width: 32px;\n",
              "    }\n",
              "\n",
              "    .colab-df-convert:hover {\n",
              "      background-color: #E2EBFA;\n",
              "      box-shadow: 0px 1px 2px rgba(60, 64, 67, 0.3), 0px 1px 3px 1px rgba(60, 64, 67, 0.15);\n",
              "      fill: #174EA6;\n",
              "    }\n",
              "\n",
              "    [theme=dark] .colab-df-convert {\n",
              "      background-color: #3B4455;\n",
              "      fill: #D2E3FC;\n",
              "    }\n",
              "\n",
              "    [theme=dark] .colab-df-convert:hover {\n",
              "      background-color: #434B5C;\n",
              "      box-shadow: 0px 1px 3px 1px rgba(0, 0, 0, 0.15);\n",
              "      filter: drop-shadow(0px 1px 2px rgba(0, 0, 0, 0.3));\n",
              "      fill: #FFFFFF;\n",
              "    }\n",
              "  </style>\n",
              "\n",
              "      <script>\n",
              "        const buttonEl =\n",
              "          document.querySelector('#df-47980c7e-f1ed-41ab-aae9-19ff675667ab button.colab-df-convert');\n",
              "        buttonEl.style.display =\n",
              "          google.colab.kernel.accessAllowed ? 'block' : 'none';\n",
              "\n",
              "        async function convertToInteractive(key) {\n",
              "          const element = document.querySelector('#df-47980c7e-f1ed-41ab-aae9-19ff675667ab');\n",
              "          const dataTable =\n",
              "            await google.colab.kernel.invokeFunction('convertToInteractive',\n",
              "                                                     [key], {});\n",
              "          if (!dataTable) return;\n",
              "\n",
              "          const docLinkHtml = 'Like what you see? Visit the ' +\n",
              "            '<a target=\"_blank\" href=https://colab.research.google.com/notebooks/data_table.ipynb>data table notebook</a>'\n",
              "            + ' to learn more about interactive tables.';\n",
              "          element.innerHTML = '';\n",
              "          dataTable['output_type'] = 'display_data';\n",
              "          await google.colab.output.renderOutput(dataTable, element);\n",
              "          const docLink = document.createElement('div');\n",
              "          docLink.innerHTML = docLinkHtml;\n",
              "          element.appendChild(docLink);\n",
              "        }\n",
              "      </script>\n",
              "    </div>\n",
              "  </div>\n",
              "  "
            ]
          },
          "metadata": {},
          "execution_count": 10
        }
      ],
      "source": [
        "train"
      ]
    },
    {
      "cell_type": "markdown",
      "source": [
        "## Preprocess and Feature extraction (GLCM)"
      ],
      "metadata": {
        "id": "EyhXVX4akUQA"
      }
    },
    {
      "cell_type": "code",
      "execution_count": null,
      "metadata": {
        "id": "HEV-wSQBrh3l"
      },
      "outputs": [],
      "source": [
        "import os\n",
        "import cv2\n",
        "import numpy as np\n",
        "from PIL import Image\n",
        "from skimage.feature import greycomatrix, greycoprops\n",
        "import pandas as pd\n",
        "\n",
        "# Define the GLCM parameters\n",
        "distance = [1]\n",
        "directory = 'DR'\n",
        "angles = [0, np.pi/4, np.pi/2, 3*np.pi/4]\n",
        "properties = ['correlation', 'homogeneity', 'contrast', 'energy', 'dissimilarity']\n",
        "\n",
        "# Create an empty list to store the texture features\n",
        "texture_features = []\n",
        "\n",
        "# Loop over all the images in the directory\n",
        "for filename in os.listdir(directory):\n",
        "    # Read the image\n",
        "    filepath = os.path.join(directory, filename)\n",
        "    if os.path.isfile(filepath) and os.path.splitext(filepath)[1].lower() in ['.png']:\n",
        "       with Image.open(filepath) as img:\n",
        "        # Resize and preprocess the image\n",
        "        output_size = (224, 224)\n",
        "        resized_img = img.copy().resize(output_size)\n",
        "        gray_img = cv2.cvtColor(np.array(resized_img), cv2.COLOR_BGR2GRAY)\n",
        "        equalized_img = cv2.equalizeHist(gray_img)\n",
        "        blur = cv2.GaussianBlur(equalized_img, (5,5), 0)\n",
        "        thresh = cv2.threshold(blur, 0, 255, cv2.THRESH_BINARY + cv2.THRESH_OTSU)[1]\n",
        "\n",
        "        # Compute the GLCM and the texture features\n",
        "        glcm_mat = greycomatrix(thresh, distances=distance, angles=angles, symmetric=True, normed=True)\n",
        "        block_glcm = np.hstack([greycoprops(glcm_mat, props).ravel() for props in properties])\n",
        "\n",
        "        # Append the texture features with the angles and property names\n",
        "        for i, prop in enumerate(properties):\n",
        "            for j, ang in enumerate(angles):\n",
        "                texture_features.append(block_glcm[i*len(angles)+j])\n",
        "        texture_features.append(filename)\n",
        "\n",
        "        # Convert NumPy array to PIL Image object\n",
        "        thresh_img = Image.fromarray(thresh)\n",
        "\n",
        "        # Save preprocessed image\n",
        "        os.makedirs(os.path.join(directory, \"Preprocessed_images\"), exist_ok=True)\n",
        "        thresh_img.save(os.path.join(directory, \"Preprocessed_images\", filename))\n",
        "\n",
        "# Create the pandas DataFrame for GLCM features data\n",
        "columns = []\n",
        "for name in properties:\n",
        "    for ang in angles:\n",
        "        columns.append(name + \"_\" + str(int(np.rad2deg(ang))))\n",
        "columns.append(\"filename\")\n",
        "\n",
        "glcm_df = pd.DataFrame(np.array(texture_features).reshape(-1, 21), columns=columns)"
      ]
    },
    {
      "cell_type": "code",
      "execution_count": null,
      "metadata": {
        "colab": {
          "base_uri": "https://localhost:8080/"
        },
        "id": "NKsGskLNwUaU",
        "outputId": "f225b296-1275-4ac2-d726-8f4525fa0456"
      },
      "outputs": [
        {
          "output_type": "stream",
          "name": "stdout",
          "text": [
            "        correlation_0      correlation_45      correlation_90  \\\n",
            "0  0.9620940331759801  0.9542287149437536   0.972875351444878   \n",
            "1  0.9603829908987846  0.9420582415877119  0.9598660513258881   \n",
            "2  0.9622606115358521  0.9523549469742915  0.9644176777677614   \n",
            "3  0.9450390540343007  0.9325126035604997  0.9540049506029303   \n",
            "4  0.9363324038562197   0.909254264448317  0.9377763978919855   \n",
            "5  0.9518690915434584  0.9348849642909206  0.9527898194303266   \n",
            "6  0.9556368358633425   0.933720716998839  0.9522735634919712   \n",
            "7  0.9372188034152958    0.91051498763407  0.9321336385403247   \n",
            "8  0.9650832319834164  0.9502487342976336  0.9594368847183383   \n",
            "9  0.9766962952730001  0.9730528712019213  0.9821412626264766   \n",
            "\n",
            "      correlation_135       homogeneity_0      homogeneity_45  \\\n",
            "0  0.9541482025689845  0.9810621105867021  0.9771364291522766   \n",
            "1  0.9490031770907875  0.9802613541633068  0.9711440420699358   \n",
            "2  0.9458359447866522  0.9811421862290416  0.9761913211225115   \n",
            "3  0.9274802544251973  0.9754568156229353  0.9697967604104835   \n",
            "4  0.9127135433744894  0.9681699321700383  0.9546348145712719   \n",
            "5  0.9358502273279915  0.9759372694769725  0.9674440446768127   \n",
            "6  0.9402360348666716  0.9778190470719512  0.9668608929137661   \n",
            "7  0.9074584209195483  0.9686103482029058  0.9552581836972873   \n",
            "8  0.9471920680135756  0.9825435099699833  0.9751255610038402   \n",
            "9  0.9695939860129141   0.988348994039599  0.9865271834054752   \n",
            "\n",
            "       homogeneity_90     homogeneity_135          contrast_0  \\\n",
            "0  0.9864471975340352  0.9770962117893081  1231.4551969891095   \n",
            "1  0.9800011083257033  0.9746027352852467  1283.5251841768097   \n",
            "2  0.9822232074006252  0.9729337147220443  1226.2481982703396   \n",
            "3  0.9794605977399116  0.9675445880842345   1595.945107303011   \n",
            "4  0.9688906129510941  0.9563641611789273   2069.781990711083   \n",
            "5  0.9763977044204246  0.9679266530324374   1564.703114990391   \n",
            "6  0.9761374585828213  0.9701184993142332  1442.3386450992953   \n",
            "7  0.9660679465586258  0.9537299239044754  2041.1434977578476   \n",
            "8  0.9797208435775151  0.9735973012110284  1135.1257206918642   \n",
            "9  0.9910715658791429  0.9847978367978198   757.6183135810378   \n",
            "\n",
            "          contrast_45  ...        contrast_135            energy_0  \\\n",
            "0  1486.7265579440568  ...  1489.3417321884615  0.6941260596299327   \n",
            "1   1876.387520360353  ...  1651.4825353415513  0.6945547970009884   \n",
            "2  1548.1831526875667  ...  1760.0122664843452    0.69412148971373   \n",
            "3  1963.9958575479097  ...  2110.4456152345715    0.72766417605324   \n",
            "4   2949.916547688472  ...   2837.464055179071  0.6850062247366825   \n",
            "5   2116.983550845583  ...   2085.601459912727  0.6903367535324647   \n",
            "6  2154.9035773894507  ...  1943.0744635926721  0.6916048063906499   \n",
            "7  2909.3813469001993  ...  3008.7579681875764   0.685275559897474   \n",
            "8  1617.4852701642903  ...   1716.861891451668  0.6949061332797484   \n",
            "9   876.0833718755656  ...   988.5358643849665    0.69893719082901   \n",
            "\n",
            "            energy_45           energy_90          energy_135  \\\n",
            "0  0.6914718875759215  0.6978352444088408  0.6914441365905516   \n",
            "1  0.6884417363434566  0.6943266459885273  0.6908133754643987   \n",
            "2  0.6906813898895237  0.6949353102923813  0.6884394392739583   \n",
            "3  0.7232998766460488  0.7302865810044973  0.7218390589430831   \n",
            "4  0.6758469872348408  0.6854845477144877  0.6770115250154806   \n",
            "5  0.6844850431743796  0.6906561630707845  0.6848147183773816   \n",
            "6  0.6840752819064184  0.6904440762758488   0.686302662943906   \n",
            "7  0.6762095884727612  0.6835406101418263  0.6751816187818902   \n",
            "8   0.689753755124072  0.6929525937563732  0.6887019141911688   \n",
            "9  0.6976593441376172  0.7008536155514846  0.6964544333723831   \n",
            "\n",
            "      dissimilarity_0    dissimilarity_45    dissimilarity_90  \\\n",
            "0   4.829236066623959   5.830300227231596  3.4560177770659837   \n",
            "1   5.033432094811019   7.358382432785699   5.099795803971813   \n",
            "2   4.808816463805253   6.071306481127713   4.533151825752722   \n",
            "3   6.258608263933376   7.701944539403567   5.237628122998078   \n",
            "4   8.116792120435619  11.568300187013614   7.933015695067264   \n",
            "5   6.136090647021141   8.301896277825817   6.018677930813581   \n",
            "6    5.65622998078155   8.450602264272357   6.085041639974376   \n",
            "7   8.004484304932735    11.4093386152949    8.65280669442665   \n",
            "8   4.451473414477898  6.3430794908403545   5.171264413837284   \n",
            "9  2.9710522101217167  3.4356210661786886   2.276785714285714   \n",
            "\n",
            "    dissimilarity_135          filename  \n",
            "0    5.84055581250377  24f271c87e73.png  \n",
            "1   6.476402099378632  8ead8f37423c.png  \n",
            "2   6.902008888173903  f233638e0e90.png  \n",
            "3   8.276257314645378  13c191b59ed0.png  \n",
            "4   11.12731002031008  dfea19863428.png  \n",
            "5   8.178829254559714  2b4c7b5f1f1e.png  \n",
            "6   7.619899857226166  ad312ca98202.png  \n",
            "7  11.799050855637555  a2b995b81692.png  \n",
            "8   6.732791731183012  27933cdbe0cc.png  \n",
            "9  3.8766112328822215  73e83a07a16d.png  \n",
            "\n",
            "[10 rows x 21 columns]\n"
          ]
        }
      ],
      "source": [
        "print(glcm_df.head(10))"
      ]
    },
    {
      "cell_type": "code",
      "execution_count": null,
      "metadata": {
        "colab": {
          "base_uri": "https://localhost:8080/"
        },
        "id": "11ArdlppNMSl",
        "outputId": "7edc3367-cfef-482f-d0df-4625cbf103a1"
      },
      "outputs": [
        {
          "output_type": "execute_result",
          "data": {
            "text/plain": [
              "0    24f271c87e73\n",
              "1    8ead8f37423c\n",
              "2    f233638e0e90\n",
              "3    13c191b59ed0\n",
              "4    dfea19863428\n",
              "Name: filename, dtype: object"
            ]
          },
          "metadata": {},
          "execution_count": 13
        }
      ],
      "source": [
        "filename_glcm = glcm_df[\"filename\"].copy(deep=True)\n",
        "filename_glcm = filename_glcm.apply(lambda x: os.path.splitext(x)[0])\n",
        "filename_glcm.head()"
      ]
    },
    {
      "cell_type": "code",
      "execution_count": null,
      "metadata": {
        "colab": {
          "base_uri": "https://localhost:8080/"
        },
        "id": "zYJvPsl0a9ar",
        "outputId": "3b9f782b-8d40-4dda-d722-edaff7950a04"
      },
      "outputs": [
        {
          "output_type": "execute_result",
          "data": {
            "text/plain": [
              "Series([], Name: filename, dtype: object)"
            ]
          },
          "metadata": {},
          "execution_count": 14
        }
      ],
      "source": [
        "filename_glcm[filename_glcm.str.contains('.png')]"
      ]
    },
    {
      "cell_type": "code",
      "execution_count": null,
      "metadata": {
        "colab": {
          "base_uri": "https://localhost:8080/"
        },
        "id": "3ZlQTyZbZ8OW",
        "outputId": "ceb58e18-ff4f-4142-ee5e-c6f306664eec"
      },
      "outputs": [
        {
          "output_type": "stream",
          "name": "stdout",
          "text": [
            "False\n"
          ]
        }
      ],
      "source": [
        "missing_values = filename_glcm.isnull().any()\n",
        "print(missing_values)"
      ]
    },
    {
      "cell_type": "code",
      "execution_count": null,
      "metadata": {
        "colab": {
          "base_uri": "https://localhost:8080/"
        },
        "id": "qmMW2lTGSQJw",
        "outputId": "88823df9-26f8-4755-b629-9363a6481039"
      },
      "outputs": [
        {
          "output_type": "stream",
          "name": "stdout",
          "text": [
            "3662\n"
          ]
        }
      ],
      "source": [
        "print(len(filename_glcm))"
      ]
    },
    {
      "cell_type": "markdown",
      "source": [
        "##  Separating Features and Labels"
      ],
      "metadata": {
        "id": "cTr8tw6Hlqe9"
      }
    },
    {
      "cell_type": "code",
      "execution_count": null,
      "metadata": {
        "colab": {
          "base_uri": "https://localhost:8080/"
        },
        "id": "xWGzoJdU4pAL",
        "outputId": "707728bf-2bf1-41bf-c882-f86ce3b5dcb3"
      },
      "outputs": [
        {
          "output_type": "stream",
          "name": "stdout",
          "text": [
            "     label\n",
            "0       No\n",
            "1       No\n",
            "2       No\n",
            "3       No\n",
            "4       No\n",
            "...    ...\n",
            "3657    Si\n",
            "3658    No\n",
            "3659    Si\n",
            "3660    Si\n",
            "3661    No\n",
            "\n",
            "[3662 rows x 1 columns]\n"
          ]
        }
      ],
      "source": [
        "import pandas as pd\n",
        "import numpy as np\n",
        "\n",
        "def get_labels(filenames, csv_file):\n",
        "    df = pd.read_csv(csv_file)\n",
        "    df['id_length'] = train['id_code'].str.len()\n",
        "    df['label'] = np.where(df['diagnosis'] == 0, 'No', 'Si')\n",
        "    df = df[df['id_length'] != 1]\n",
        "    labels = []\n",
        "    for filename in filenames:\n",
        "        label_series = df.loc[df['id_code'] == filename, 'label']\n",
        "        if not label_series.empty:\n",
        "            label = label_series.iloc[0]\n",
        "        else:\n",
        "            label = None\n",
        "        labels.append(label)\n",
        "    return labels\n",
        "\n",
        "y = get_labels(filename_glcm, train_csv)\n",
        "y = pd.DataFrame({'label': y})\n",
        "print(y)"
      ]
    },
    {
      "cell_type": "code",
      "execution_count": null,
      "metadata": {
        "colab": {
          "base_uri": "https://localhost:8080/"
        },
        "id": "YlOLfHKe3OKi",
        "outputId": "5ab3a136-0073-4f6d-a31d-dead1dafdcfc"
      },
      "outputs": [
        {
          "output_type": "execute_result",
          "data": {
            "text/plain": [
              "3662"
            ]
          },
          "metadata": {},
          "execution_count": 18
        }
      ],
      "source": [
        "len(y)"
      ]
    },
    {
      "cell_type": "code",
      "execution_count": null,
      "metadata": {
        "colab": {
          "base_uri": "https://localhost:8080/"
        },
        "id": "RLzANV6iYYbB",
        "outputId": "b26791a8-0e94-4dc9-ad9f-47b576749f4b"
      },
      "outputs": [
        {
          "output_type": "stream",
          "name": "stdout",
          "text": [
            "label    9\n",
            "dtype: int64\n"
          ]
        }
      ],
      "source": [
        "print(y.isnull().sum())"
      ]
    },
    {
      "cell_type": "code",
      "execution_count": null,
      "metadata": {
        "colab": {
          "base_uri": "https://localhost:8080/"
        },
        "id": "6JT5rjuod5Wi",
        "outputId": "f9bcf425-6034-42fd-c05e-da07391250f6"
      },
      "outputs": [
        {
          "output_type": "stream",
          "name": "stdout",
          "text": [
            "     label\n",
            "84    None\n",
            "413   None\n",
            "1774  None\n",
            "1869  None\n",
            "1949  None\n",
            "2408  None\n",
            "2953  None\n",
            "3445  None\n",
            "3553  None\n"
          ]
        }
      ],
      "source": [
        "# Check for missing values in y dataframe\n",
        "missing_rows = y.index[y.isnull().any(axis=1)].tolist()\n",
        "missing_rows\n",
        "print(y.iloc[missing_rows])"
      ]
    },
    {
      "cell_type": "code",
      "execution_count": null,
      "metadata": {
        "id": "RAzBv_xBKdR_"
      },
      "outputs": [],
      "source": [
        "#glcm_df= glcm_df(\"filename\",axis =1)\n",
        "glcm_df = glcm_df.drop(\"filename\",axis =1)\n",
        "X=glcm_df"
      ]
    },
    {
      "cell_type": "code",
      "execution_count": null,
      "metadata": {
        "id": "2TukjwBEXUsJ"
      },
      "outputs": [],
      "source": [
        "# Drop rows with missing values in X and y dataframes\n",
        "if missing_rows:\n",
        "    X.drop(missing_rows, inplace=True)\n",
        "    y.drop(missing_rows, inplace=True)\n"
      ]
    },
    {
      "cell_type": "code",
      "execution_count": null,
      "metadata": {
        "colab": {
          "base_uri": "https://localhost:8080/",
          "height": 487
        },
        "id": "FmzID3lF5kvd",
        "outputId": "3cd3c226-5fa4-46ca-d78f-7b63f3f842f3"
      },
      "outputs": [
        {
          "output_type": "execute_result",
          "data": {
            "text/plain": [
              "           correlation_0      correlation_45      correlation_90  \\\n",
              "0     0.9620940331759801  0.9542287149437536   0.972875351444878   \n",
              "1     0.9603829908987846  0.9420582415877119  0.9598660513258881   \n",
              "2     0.9622606115358521  0.9523549469742915  0.9644176777677614   \n",
              "3     0.9450390540343007  0.9325126035604997  0.9540049506029303   \n",
              "4     0.9363324038562197   0.909254264448317  0.9377763978919855   \n",
              "...                  ...                 ...                 ...   \n",
              "3657  0.9497101431320343  0.9359716393665083  0.9609193139640024   \n",
              "3658    0.94578079712847  0.9215305600407819  0.9430975768160504   \n",
              "3659  0.9374187409369992  0.9271091033834049  0.9586180937385691   \n",
              "3660  0.9345088621361629  0.9151282338582774  0.9498525454220137   \n",
              "3661  0.9535377482469878  0.9353330459979372  0.9506944352659396   \n",
              "\n",
              "         correlation_135       homogeneity_0      homogeneity_45  \\\n",
              "0     0.9541482025689845  0.9810621105867021  0.9771364291522766   \n",
              "1     0.9490031770907875  0.9802613541633068  0.9711440420699358   \n",
              "2     0.9458359447866522  0.9811421862290416  0.9761913211225115   \n",
              "3     0.9274802544251973  0.9754568156229353  0.9697967604104835   \n",
              "4     0.9127135433744894  0.9681699321700383  0.9546348145712719   \n",
              "...                  ...                 ...                 ...   \n",
              "3657  0.9372586415902969  0.9748562483053889  0.9679869790768905   \n",
              "3658  0.9278853378539837  0.9728943950680705  0.9607679624240033   \n",
              "3659  0.9237281893492835  0.9687304616664152  0.9635831778318145   \n",
              "3660  0.9215168660880971  0.9674492513889827  0.9577918775643173   \n",
              "3661  0.9320333009897424  0.9767780637215374   0.967685348854625   \n",
              "\n",
              "          homogeneity_90     homogeneity_135          contrast_0  \\\n",
              "0     0.9864471975340352  0.9770962117893081  1231.4551969891095   \n",
              "1     0.9800011083257033  0.9746027352852467  1283.5251841768097   \n",
              "2     0.9822232074006252  0.9729337147220443  1226.2481982703396   \n",
              "3     0.9794605977399116  0.9675445880842345   1595.945107303011   \n",
              "4     0.9688906129510941  0.9563641611789273   2069.781990711083   \n",
              "...                  ...                 ...                 ...   \n",
              "3657  0.9804615432691557  0.9686304568843902   1634.997597693786   \n",
              "3658  0.9715531280588834   0.963945134098533  1762.5690663036519   \n",
              "3659  0.9793204653658174  0.9618940485871279  2033.3329996796926   \n",
              "3660  0.9750764563218226   0.960969049238847   2116.644979180013   \n",
              "3661  0.9753567210700109   0.966036436972907  1510.0296284433055   \n",
              "\n",
              "             contrast_45         contrast_90        contrast_135  \\\n",
              "0     1486.7265579440568   881.2845331518258  1489.3417321884615   \n",
              "1      1876.387520360353  1300.4479300128123  1651.4825353415513   \n",
              "2     1548.1831526875667   1155.953715566944  1760.0122664843452   \n",
              "3     1963.9958575479097    1335.59517136451  2110.4456152345715   \n",
              "4      2949.916547688472  2022.9190022421524   2837.464055179071   \n",
              "...                  ...                 ...                 ...   \n",
              "3657    2081.67869854612  1270.5076873798848  2039.8359106356454   \n",
              "3658   2551.102475416759  1849.7862948430493  2344.5037101087896   \n",
              "3659   2368.040278308432  1344.7074191223576   2477.877596573428   \n",
              "3660  2744.6253695027053  1620.6783512171685   2538.026604194736   \n",
              "3661   2101.292505379155  1602.4538557014735  2208.5146493997463   \n",
              "\n",
              "                energy_0           energy_45           energy_90  \\\n",
              "0     0.6941260596299327  0.6914718875759215  0.6978352444088408   \n",
              "1     0.6945547970009884  0.6884417363434566  0.6943266459885273   \n",
              "2       0.69412148971373  0.6906813898895237  0.6949353102923813   \n",
              "3       0.72766417605324  0.7232998766460488  0.7302865810044973   \n",
              "4     0.6850062247366825  0.6758469872348408  0.6854845477144877   \n",
              "...                  ...                 ...                 ...   \n",
              "3657  0.6895678352930059  0.6848516410274803  0.6934577014486105   \n",
              "3658  0.6882548485387386  0.6799507735338443  0.6873358106485561   \n",
              "3659  0.6855925405856282  0.6821245385306388  0.6928319047429984   \n",
              "3660  0.6866406990205025  0.6798887748777678   0.691870271099062   \n",
              "3661  0.6910188720476479  0.6848449138357252  0.6900352971457744   \n",
              "\n",
              "              energy_135    dissimilarity_0    dissimilarity_45  \\\n",
              "0     0.6914441365905516  4.829236066623959   5.830300227231596   \n",
              "1     0.6908133754643987  5.033432094811019   7.358382432785699   \n",
              "2     0.6884394392739583  4.808816463805253   6.071306481127713   \n",
              "3     0.7218390589430831  6.258608263933376   7.701944539403567   \n",
              "4     0.6770115250154806  8.116792120435619  11.568300187013614   \n",
              "...                  ...                ...                 ...   \n",
              "3657  0.6852915229255248  6.411755285073671   8.163445876651451   \n",
              "3658  0.6821078127321032  6.912035554131968  10.004323433006897   \n",
              "3659  0.6809776892911519  7.973854900704676   9.286432463954634   \n",
              "3660  0.6820321461038319  8.300568545803971  10.763236743147862   \n",
              "3661  0.6837199054167414  5.921684817424728   8.240362766192765   \n",
              "\n",
              "        dissimilarity_90  dissimilarity_135  \n",
              "0     3.4560177770659837   5.84055581250377  \n",
              "1      5.099795803971813  6.476402099378632  \n",
              "2      4.533151825752722  6.902008888173903  \n",
              "3      5.237628122998078  8.276257314645378  \n",
              "4      7.933015695067264  11.12731002031008  \n",
              "...                  ...                ...  \n",
              "3657   4.982383087764255  7.999356512296648  \n",
              "3658   7.254063901345291  9.194132196505057  \n",
              "3659   5.273362427930814  9.717167045385992  \n",
              "3660  6.3556013773222295  9.953045506646024  \n",
              "3661   6.284132767456759  8.660841762351946  \n",
              "\n",
              "[3653 rows x 20 columns]"
            ],
            "text/html": [
              "\n",
              "  <div id=\"df-fcd42d15-57fb-4cd6-a54c-55bb646863ed\">\n",
              "    <div class=\"colab-df-container\">\n",
              "      <div>\n",
              "<style scoped>\n",
              "    .dataframe tbody tr th:only-of-type {\n",
              "        vertical-align: middle;\n",
              "    }\n",
              "\n",
              "    .dataframe tbody tr th {\n",
              "        vertical-align: top;\n",
              "    }\n",
              "\n",
              "    .dataframe thead th {\n",
              "        text-align: right;\n",
              "    }\n",
              "</style>\n",
              "<table border=\"1\" class=\"dataframe\">\n",
              "  <thead>\n",
              "    <tr style=\"text-align: right;\">\n",
              "      <th></th>\n",
              "      <th>correlation_0</th>\n",
              "      <th>correlation_45</th>\n",
              "      <th>correlation_90</th>\n",
              "      <th>correlation_135</th>\n",
              "      <th>homogeneity_0</th>\n",
              "      <th>homogeneity_45</th>\n",
              "      <th>homogeneity_90</th>\n",
              "      <th>homogeneity_135</th>\n",
              "      <th>contrast_0</th>\n",
              "      <th>contrast_45</th>\n",
              "      <th>contrast_90</th>\n",
              "      <th>contrast_135</th>\n",
              "      <th>energy_0</th>\n",
              "      <th>energy_45</th>\n",
              "      <th>energy_90</th>\n",
              "      <th>energy_135</th>\n",
              "      <th>dissimilarity_0</th>\n",
              "      <th>dissimilarity_45</th>\n",
              "      <th>dissimilarity_90</th>\n",
              "      <th>dissimilarity_135</th>\n",
              "    </tr>\n",
              "  </thead>\n",
              "  <tbody>\n",
              "    <tr>\n",
              "      <th>0</th>\n",
              "      <td>0.9620940331759801</td>\n",
              "      <td>0.9542287149437536</td>\n",
              "      <td>0.972875351444878</td>\n",
              "      <td>0.9541482025689845</td>\n",
              "      <td>0.9810621105867021</td>\n",
              "      <td>0.9771364291522766</td>\n",
              "      <td>0.9864471975340352</td>\n",
              "      <td>0.9770962117893081</td>\n",
              "      <td>1231.4551969891095</td>\n",
              "      <td>1486.7265579440568</td>\n",
              "      <td>881.2845331518258</td>\n",
              "      <td>1489.3417321884615</td>\n",
              "      <td>0.6941260596299327</td>\n",
              "      <td>0.6914718875759215</td>\n",
              "      <td>0.6978352444088408</td>\n",
              "      <td>0.6914441365905516</td>\n",
              "      <td>4.829236066623959</td>\n",
              "      <td>5.830300227231596</td>\n",
              "      <td>3.4560177770659837</td>\n",
              "      <td>5.84055581250377</td>\n",
              "    </tr>\n",
              "    <tr>\n",
              "      <th>1</th>\n",
              "      <td>0.9603829908987846</td>\n",
              "      <td>0.9420582415877119</td>\n",
              "      <td>0.9598660513258881</td>\n",
              "      <td>0.9490031770907875</td>\n",
              "      <td>0.9802613541633068</td>\n",
              "      <td>0.9711440420699358</td>\n",
              "      <td>0.9800011083257033</td>\n",
              "      <td>0.9746027352852467</td>\n",
              "      <td>1283.5251841768097</td>\n",
              "      <td>1876.387520360353</td>\n",
              "      <td>1300.4479300128123</td>\n",
              "      <td>1651.4825353415513</td>\n",
              "      <td>0.6945547970009884</td>\n",
              "      <td>0.6884417363434566</td>\n",
              "      <td>0.6943266459885273</td>\n",
              "      <td>0.6908133754643987</td>\n",
              "      <td>5.033432094811019</td>\n",
              "      <td>7.358382432785699</td>\n",
              "      <td>5.099795803971813</td>\n",
              "      <td>6.476402099378632</td>\n",
              "    </tr>\n",
              "    <tr>\n",
              "      <th>2</th>\n",
              "      <td>0.9622606115358521</td>\n",
              "      <td>0.9523549469742915</td>\n",
              "      <td>0.9644176777677614</td>\n",
              "      <td>0.9458359447866522</td>\n",
              "      <td>0.9811421862290416</td>\n",
              "      <td>0.9761913211225115</td>\n",
              "      <td>0.9822232074006252</td>\n",
              "      <td>0.9729337147220443</td>\n",
              "      <td>1226.2481982703396</td>\n",
              "      <td>1548.1831526875667</td>\n",
              "      <td>1155.953715566944</td>\n",
              "      <td>1760.0122664843452</td>\n",
              "      <td>0.69412148971373</td>\n",
              "      <td>0.6906813898895237</td>\n",
              "      <td>0.6949353102923813</td>\n",
              "      <td>0.6884394392739583</td>\n",
              "      <td>4.808816463805253</td>\n",
              "      <td>6.071306481127713</td>\n",
              "      <td>4.533151825752722</td>\n",
              "      <td>6.902008888173903</td>\n",
              "    </tr>\n",
              "    <tr>\n",
              "      <th>3</th>\n",
              "      <td>0.9450390540343007</td>\n",
              "      <td>0.9325126035604997</td>\n",
              "      <td>0.9540049506029303</td>\n",
              "      <td>0.9274802544251973</td>\n",
              "      <td>0.9754568156229353</td>\n",
              "      <td>0.9697967604104835</td>\n",
              "      <td>0.9794605977399116</td>\n",
              "      <td>0.9675445880842345</td>\n",
              "      <td>1595.945107303011</td>\n",
              "      <td>1963.9958575479097</td>\n",
              "      <td>1335.59517136451</td>\n",
              "      <td>2110.4456152345715</td>\n",
              "      <td>0.72766417605324</td>\n",
              "      <td>0.7232998766460488</td>\n",
              "      <td>0.7302865810044973</td>\n",
              "      <td>0.7218390589430831</td>\n",
              "      <td>6.258608263933376</td>\n",
              "      <td>7.701944539403567</td>\n",
              "      <td>5.237628122998078</td>\n",
              "      <td>8.276257314645378</td>\n",
              "    </tr>\n",
              "    <tr>\n",
              "      <th>4</th>\n",
              "      <td>0.9363324038562197</td>\n",
              "      <td>0.909254264448317</td>\n",
              "      <td>0.9377763978919855</td>\n",
              "      <td>0.9127135433744894</td>\n",
              "      <td>0.9681699321700383</td>\n",
              "      <td>0.9546348145712719</td>\n",
              "      <td>0.9688906129510941</td>\n",
              "      <td>0.9563641611789273</td>\n",
              "      <td>2069.781990711083</td>\n",
              "      <td>2949.916547688472</td>\n",
              "      <td>2022.9190022421524</td>\n",
              "      <td>2837.464055179071</td>\n",
              "      <td>0.6850062247366825</td>\n",
              "      <td>0.6758469872348408</td>\n",
              "      <td>0.6854845477144877</td>\n",
              "      <td>0.6770115250154806</td>\n",
              "      <td>8.116792120435619</td>\n",
              "      <td>11.568300187013614</td>\n",
              "      <td>7.933015695067264</td>\n",
              "      <td>11.12731002031008</td>\n",
              "    </tr>\n",
              "    <tr>\n",
              "      <th>...</th>\n",
              "      <td>...</td>\n",
              "      <td>...</td>\n",
              "      <td>...</td>\n",
              "      <td>...</td>\n",
              "      <td>...</td>\n",
              "      <td>...</td>\n",
              "      <td>...</td>\n",
              "      <td>...</td>\n",
              "      <td>...</td>\n",
              "      <td>...</td>\n",
              "      <td>...</td>\n",
              "      <td>...</td>\n",
              "      <td>...</td>\n",
              "      <td>...</td>\n",
              "      <td>...</td>\n",
              "      <td>...</td>\n",
              "      <td>...</td>\n",
              "      <td>...</td>\n",
              "      <td>...</td>\n",
              "      <td>...</td>\n",
              "    </tr>\n",
              "    <tr>\n",
              "      <th>3657</th>\n",
              "      <td>0.9497101431320343</td>\n",
              "      <td>0.9359716393665083</td>\n",
              "      <td>0.9609193139640024</td>\n",
              "      <td>0.9372586415902969</td>\n",
              "      <td>0.9748562483053889</td>\n",
              "      <td>0.9679869790768905</td>\n",
              "      <td>0.9804615432691557</td>\n",
              "      <td>0.9686304568843902</td>\n",
              "      <td>1634.997597693786</td>\n",
              "      <td>2081.67869854612</td>\n",
              "      <td>1270.5076873798848</td>\n",
              "      <td>2039.8359106356454</td>\n",
              "      <td>0.6895678352930059</td>\n",
              "      <td>0.6848516410274803</td>\n",
              "      <td>0.6934577014486105</td>\n",
              "      <td>0.6852915229255248</td>\n",
              "      <td>6.411755285073671</td>\n",
              "      <td>8.163445876651451</td>\n",
              "      <td>4.982383087764255</td>\n",
              "      <td>7.999356512296648</td>\n",
              "    </tr>\n",
              "    <tr>\n",
              "      <th>3658</th>\n",
              "      <td>0.94578079712847</td>\n",
              "      <td>0.9215305600407819</td>\n",
              "      <td>0.9430975768160504</td>\n",
              "      <td>0.9278853378539837</td>\n",
              "      <td>0.9728943950680705</td>\n",
              "      <td>0.9607679624240033</td>\n",
              "      <td>0.9715531280588834</td>\n",
              "      <td>0.963945134098533</td>\n",
              "      <td>1762.5690663036519</td>\n",
              "      <td>2551.102475416759</td>\n",
              "      <td>1849.7862948430493</td>\n",
              "      <td>2344.5037101087896</td>\n",
              "      <td>0.6882548485387386</td>\n",
              "      <td>0.6799507735338443</td>\n",
              "      <td>0.6873358106485561</td>\n",
              "      <td>0.6821078127321032</td>\n",
              "      <td>6.912035554131968</td>\n",
              "      <td>10.004323433006897</td>\n",
              "      <td>7.254063901345291</td>\n",
              "      <td>9.194132196505057</td>\n",
              "    </tr>\n",
              "    <tr>\n",
              "      <th>3659</th>\n",
              "      <td>0.9374187409369992</td>\n",
              "      <td>0.9271091033834049</td>\n",
              "      <td>0.9586180937385691</td>\n",
              "      <td>0.9237281893492835</td>\n",
              "      <td>0.9687304616664152</td>\n",
              "      <td>0.9635831778318145</td>\n",
              "      <td>0.9793204653658174</td>\n",
              "      <td>0.9618940485871279</td>\n",
              "      <td>2033.3329996796926</td>\n",
              "      <td>2368.040278308432</td>\n",
              "      <td>1344.7074191223576</td>\n",
              "      <td>2477.877596573428</td>\n",
              "      <td>0.6855925405856282</td>\n",
              "      <td>0.6821245385306388</td>\n",
              "      <td>0.6928319047429984</td>\n",
              "      <td>0.6809776892911519</td>\n",
              "      <td>7.973854900704676</td>\n",
              "      <td>9.286432463954634</td>\n",
              "      <td>5.273362427930814</td>\n",
              "      <td>9.717167045385992</td>\n",
              "    </tr>\n",
              "    <tr>\n",
              "      <th>3660</th>\n",
              "      <td>0.9345088621361629</td>\n",
              "      <td>0.9151282338582774</td>\n",
              "      <td>0.9498525454220137</td>\n",
              "      <td>0.9215168660880971</td>\n",
              "      <td>0.9674492513889827</td>\n",
              "      <td>0.9577918775643173</td>\n",
              "      <td>0.9750764563218226</td>\n",
              "      <td>0.960969049238847</td>\n",
              "      <td>2116.644979180013</td>\n",
              "      <td>2744.6253695027053</td>\n",
              "      <td>1620.6783512171685</td>\n",
              "      <td>2538.026604194736</td>\n",
              "      <td>0.6866406990205025</td>\n",
              "      <td>0.6798887748777678</td>\n",
              "      <td>0.691870271099062</td>\n",
              "      <td>0.6820321461038319</td>\n",
              "      <td>8.300568545803971</td>\n",
              "      <td>10.763236743147862</td>\n",
              "      <td>6.3556013773222295</td>\n",
              "      <td>9.953045506646024</td>\n",
              "    </tr>\n",
              "    <tr>\n",
              "      <th>3661</th>\n",
              "      <td>0.9535377482469878</td>\n",
              "      <td>0.9353330459979372</td>\n",
              "      <td>0.9506944352659396</td>\n",
              "      <td>0.9320333009897424</td>\n",
              "      <td>0.9767780637215374</td>\n",
              "      <td>0.967685348854625</td>\n",
              "      <td>0.9753567210700109</td>\n",
              "      <td>0.966036436972907</td>\n",
              "      <td>1510.0296284433055</td>\n",
              "      <td>2101.292505379155</td>\n",
              "      <td>1602.4538557014735</td>\n",
              "      <td>2208.5146493997463</td>\n",
              "      <td>0.6910188720476479</td>\n",
              "      <td>0.6848449138357252</td>\n",
              "      <td>0.6900352971457744</td>\n",
              "      <td>0.6837199054167414</td>\n",
              "      <td>5.921684817424728</td>\n",
              "      <td>8.240362766192765</td>\n",
              "      <td>6.284132767456759</td>\n",
              "      <td>8.660841762351946</td>\n",
              "    </tr>\n",
              "  </tbody>\n",
              "</table>\n",
              "<p>3653 rows × 20 columns</p>\n",
              "</div>\n",
              "      <button class=\"colab-df-convert\" onclick=\"convertToInteractive('df-fcd42d15-57fb-4cd6-a54c-55bb646863ed')\"\n",
              "              title=\"Convert this dataframe to an interactive table.\"\n",
              "              style=\"display:none;\">\n",
              "        \n",
              "  <svg xmlns=\"http://www.w3.org/2000/svg\" height=\"24px\"viewBox=\"0 0 24 24\"\n",
              "       width=\"24px\">\n",
              "    <path d=\"M0 0h24v24H0V0z\" fill=\"none\"/>\n",
              "    <path d=\"M18.56 5.44l.94 2.06.94-2.06 2.06-.94-2.06-.94-.94-2.06-.94 2.06-2.06.94zm-11 1L8.5 8.5l.94-2.06 2.06-.94-2.06-.94L8.5 2.5l-.94 2.06-2.06.94zm10 10l.94 2.06.94-2.06 2.06-.94-2.06-.94-.94-2.06-.94 2.06-2.06.94z\"/><path d=\"M17.41 7.96l-1.37-1.37c-.4-.4-.92-.59-1.43-.59-.52 0-1.04.2-1.43.59L10.3 9.45l-7.72 7.72c-.78.78-.78 2.05 0 2.83L4 21.41c.39.39.9.59 1.41.59.51 0 1.02-.2 1.41-.59l7.78-7.78 2.81-2.81c.8-.78.8-2.07 0-2.86zM5.41 20L4 18.59l7.72-7.72 1.47 1.35L5.41 20z\"/>\n",
              "  </svg>\n",
              "      </button>\n",
              "      \n",
              "  <style>\n",
              "    .colab-df-container {\n",
              "      display:flex;\n",
              "      flex-wrap:wrap;\n",
              "      gap: 12px;\n",
              "    }\n",
              "\n",
              "    .colab-df-convert {\n",
              "      background-color: #E8F0FE;\n",
              "      border: none;\n",
              "      border-radius: 50%;\n",
              "      cursor: pointer;\n",
              "      display: none;\n",
              "      fill: #1967D2;\n",
              "      height: 32px;\n",
              "      padding: 0 0 0 0;\n",
              "      width: 32px;\n",
              "    }\n",
              "\n",
              "    .colab-df-convert:hover {\n",
              "      background-color: #E2EBFA;\n",
              "      box-shadow: 0px 1px 2px rgba(60, 64, 67, 0.3), 0px 1px 3px 1px rgba(60, 64, 67, 0.15);\n",
              "      fill: #174EA6;\n",
              "    }\n",
              "\n",
              "    [theme=dark] .colab-df-convert {\n",
              "      background-color: #3B4455;\n",
              "      fill: #D2E3FC;\n",
              "    }\n",
              "\n",
              "    [theme=dark] .colab-df-convert:hover {\n",
              "      background-color: #434B5C;\n",
              "      box-shadow: 0px 1px 3px 1px rgba(0, 0, 0, 0.15);\n",
              "      filter: drop-shadow(0px 1px 2px rgba(0, 0, 0, 0.3));\n",
              "      fill: #FFFFFF;\n",
              "    }\n",
              "  </style>\n",
              "\n",
              "      <script>\n",
              "        const buttonEl =\n",
              "          document.querySelector('#df-fcd42d15-57fb-4cd6-a54c-55bb646863ed button.colab-df-convert');\n",
              "        buttonEl.style.display =\n",
              "          google.colab.kernel.accessAllowed ? 'block' : 'none';\n",
              "\n",
              "        async function convertToInteractive(key) {\n",
              "          const element = document.querySelector('#df-fcd42d15-57fb-4cd6-a54c-55bb646863ed');\n",
              "          const dataTable =\n",
              "            await google.colab.kernel.invokeFunction('convertToInteractive',\n",
              "                                                     [key], {});\n",
              "          if (!dataTable) return;\n",
              "\n",
              "          const docLinkHtml = 'Like what you see? Visit the ' +\n",
              "            '<a target=\"_blank\" href=https://colab.research.google.com/notebooks/data_table.ipynb>data table notebook</a>'\n",
              "            + ' to learn more about interactive tables.';\n",
              "          element.innerHTML = '';\n",
              "          dataTable['output_type'] = 'display_data';\n",
              "          await google.colab.output.renderOutput(dataTable, element);\n",
              "          const docLink = document.createElement('div');\n",
              "          docLink.innerHTML = docLinkHtml;\n",
              "          element.appendChild(docLink);\n",
              "        }\n",
              "      </script>\n",
              "    </div>\n",
              "  </div>\n",
              "  "
            ]
          },
          "metadata": {},
          "execution_count": 24
        }
      ],
      "source": [
        "X"
      ]
    },
    {
      "cell_type": "code",
      "execution_count": null,
      "metadata": {
        "colab": {
          "base_uri": "https://localhost:8080/",
          "height": 423
        },
        "id": "t0sc3XAg5nxY",
        "outputId": "740b9efc-eb06-4b4d-a0f9-1fb8d2596156"
      },
      "outputs": [
        {
          "output_type": "execute_result",
          "data": {
            "text/plain": [
              "     label\n",
              "0       No\n",
              "1       No\n",
              "2       No\n",
              "3       No\n",
              "4       No\n",
              "...    ...\n",
              "3657    Si\n",
              "3658    No\n",
              "3659    Si\n",
              "3660    Si\n",
              "3661    No\n",
              "\n",
              "[3653 rows x 1 columns]"
            ],
            "text/html": [
              "\n",
              "  <div id=\"df-c852e99b-9d0d-4860-a3ee-cec194eaeb67\">\n",
              "    <div class=\"colab-df-container\">\n",
              "      <div>\n",
              "<style scoped>\n",
              "    .dataframe tbody tr th:only-of-type {\n",
              "        vertical-align: middle;\n",
              "    }\n",
              "\n",
              "    .dataframe tbody tr th {\n",
              "        vertical-align: top;\n",
              "    }\n",
              "\n",
              "    .dataframe thead th {\n",
              "        text-align: right;\n",
              "    }\n",
              "</style>\n",
              "<table border=\"1\" class=\"dataframe\">\n",
              "  <thead>\n",
              "    <tr style=\"text-align: right;\">\n",
              "      <th></th>\n",
              "      <th>label</th>\n",
              "    </tr>\n",
              "  </thead>\n",
              "  <tbody>\n",
              "    <tr>\n",
              "      <th>0</th>\n",
              "      <td>No</td>\n",
              "    </tr>\n",
              "    <tr>\n",
              "      <th>1</th>\n",
              "      <td>No</td>\n",
              "    </tr>\n",
              "    <tr>\n",
              "      <th>2</th>\n",
              "      <td>No</td>\n",
              "    </tr>\n",
              "    <tr>\n",
              "      <th>3</th>\n",
              "      <td>No</td>\n",
              "    </tr>\n",
              "    <tr>\n",
              "      <th>4</th>\n",
              "      <td>No</td>\n",
              "    </tr>\n",
              "    <tr>\n",
              "      <th>...</th>\n",
              "      <td>...</td>\n",
              "    </tr>\n",
              "    <tr>\n",
              "      <th>3657</th>\n",
              "      <td>Si</td>\n",
              "    </tr>\n",
              "    <tr>\n",
              "      <th>3658</th>\n",
              "      <td>No</td>\n",
              "    </tr>\n",
              "    <tr>\n",
              "      <th>3659</th>\n",
              "      <td>Si</td>\n",
              "    </tr>\n",
              "    <tr>\n",
              "      <th>3660</th>\n",
              "      <td>Si</td>\n",
              "    </tr>\n",
              "    <tr>\n",
              "      <th>3661</th>\n",
              "      <td>No</td>\n",
              "    </tr>\n",
              "  </tbody>\n",
              "</table>\n",
              "<p>3653 rows × 1 columns</p>\n",
              "</div>\n",
              "      <button class=\"colab-df-convert\" onclick=\"convertToInteractive('df-c852e99b-9d0d-4860-a3ee-cec194eaeb67')\"\n",
              "              title=\"Convert this dataframe to an interactive table.\"\n",
              "              style=\"display:none;\">\n",
              "        \n",
              "  <svg xmlns=\"http://www.w3.org/2000/svg\" height=\"24px\"viewBox=\"0 0 24 24\"\n",
              "       width=\"24px\">\n",
              "    <path d=\"M0 0h24v24H0V0z\" fill=\"none\"/>\n",
              "    <path d=\"M18.56 5.44l.94 2.06.94-2.06 2.06-.94-2.06-.94-.94-2.06-.94 2.06-2.06.94zm-11 1L8.5 8.5l.94-2.06 2.06-.94-2.06-.94L8.5 2.5l-.94 2.06-2.06.94zm10 10l.94 2.06.94-2.06 2.06-.94-2.06-.94-.94-2.06-.94 2.06-2.06.94z\"/><path d=\"M17.41 7.96l-1.37-1.37c-.4-.4-.92-.59-1.43-.59-.52 0-1.04.2-1.43.59L10.3 9.45l-7.72 7.72c-.78.78-.78 2.05 0 2.83L4 21.41c.39.39.9.59 1.41.59.51 0 1.02-.2 1.41-.59l7.78-7.78 2.81-2.81c.8-.78.8-2.07 0-2.86zM5.41 20L4 18.59l7.72-7.72 1.47 1.35L5.41 20z\"/>\n",
              "  </svg>\n",
              "      </button>\n",
              "      \n",
              "  <style>\n",
              "    .colab-df-container {\n",
              "      display:flex;\n",
              "      flex-wrap:wrap;\n",
              "      gap: 12px;\n",
              "    }\n",
              "\n",
              "    .colab-df-convert {\n",
              "      background-color: #E8F0FE;\n",
              "      border: none;\n",
              "      border-radius: 50%;\n",
              "      cursor: pointer;\n",
              "      display: none;\n",
              "      fill: #1967D2;\n",
              "      height: 32px;\n",
              "      padding: 0 0 0 0;\n",
              "      width: 32px;\n",
              "    }\n",
              "\n",
              "    .colab-df-convert:hover {\n",
              "      background-color: #E2EBFA;\n",
              "      box-shadow: 0px 1px 2px rgba(60, 64, 67, 0.3), 0px 1px 3px 1px rgba(60, 64, 67, 0.15);\n",
              "      fill: #174EA6;\n",
              "    }\n",
              "\n",
              "    [theme=dark] .colab-df-convert {\n",
              "      background-color: #3B4455;\n",
              "      fill: #D2E3FC;\n",
              "    }\n",
              "\n",
              "    [theme=dark] .colab-df-convert:hover {\n",
              "      background-color: #434B5C;\n",
              "      box-shadow: 0px 1px 3px 1px rgba(0, 0, 0, 0.15);\n",
              "      filter: drop-shadow(0px 1px 2px rgba(0, 0, 0, 0.3));\n",
              "      fill: #FFFFFF;\n",
              "    }\n",
              "  </style>\n",
              "\n",
              "      <script>\n",
              "        const buttonEl =\n",
              "          document.querySelector('#df-c852e99b-9d0d-4860-a3ee-cec194eaeb67 button.colab-df-convert');\n",
              "        buttonEl.style.display =\n",
              "          google.colab.kernel.accessAllowed ? 'block' : 'none';\n",
              "\n",
              "        async function convertToInteractive(key) {\n",
              "          const element = document.querySelector('#df-c852e99b-9d0d-4860-a3ee-cec194eaeb67');\n",
              "          const dataTable =\n",
              "            await google.colab.kernel.invokeFunction('convertToInteractive',\n",
              "                                                     [key], {});\n",
              "          if (!dataTable) return;\n",
              "\n",
              "          const docLinkHtml = 'Like what you see? Visit the ' +\n",
              "            '<a target=\"_blank\" href=https://colab.research.google.com/notebooks/data_table.ipynb>data table notebook</a>'\n",
              "            + ' to learn more about interactive tables.';\n",
              "          element.innerHTML = '';\n",
              "          dataTable['output_type'] = 'display_data';\n",
              "          await google.colab.output.renderOutput(dataTable, element);\n",
              "          const docLink = document.createElement('div');\n",
              "          docLink.innerHTML = docLinkHtml;\n",
              "          element.appendChild(docLink);\n",
              "        }\n",
              "      </script>\n",
              "    </div>\n",
              "  </div>\n",
              "  "
            ]
          },
          "metadata": {},
          "execution_count": 25
        }
      ],
      "source": [
        "y"
      ]
    },
    {
      "cell_type": "markdown",
      "source": [
        "## SVM Linear"
      ],
      "metadata": {
        "id": "3QnY2xKjl49N"
      }
    },
    {
      "cell_type": "code",
      "execution_count": null,
      "metadata": {
        "id": "K6qvwOAc_2_z"
      },
      "outputs": [],
      "source": [
        " def plot_confusion_matrix(y,y_predict):\n",
        "    cm = confusion_matrix(y, y_predict)\n",
        "    ax= plt.subplot()\n",
        "    sns.heatmap(cm, annot=True, ax = ax); #annot=True to annotate cells\n",
        "    ax.set_xlabel('Predicted labels')\n",
        "    ax.set_ylabel('True labels')\n",
        "    ax.set_title('Confusion Matrix');\n",
        "    ax.xaxis.set_ticklabels(['No RD', 'DR Detected']); ax.yaxis.set_ticklabels(['No RD', 'RD Detected'])"
      ]
    },
    {
      "cell_type": "code",
      "execution_count": null,
      "metadata": {
        "id": "OS3zJQTX0icI"
      },
      "outputs": [],
      "source": [
        "from sklearn.model_selection import cross_val_score, RandomizedSearchCV, train_test_split, KFold\n",
        "from sklearn.svm import SVC\n",
        "from sklearn.neighbors import KNeighborsClassifier\n",
        "import numpy as np\n",
        "\n",
        "# Definir los parámetros del modelo y los rangos de búsqueda\n",
        "svm_params = {\n",
        "    'C': [0.1, 1, 10, 100, 1000],\n",
        "    'kernel': ['linear']\n",
        "}\n",
        "svm_model = SVC()\n",
        "\n",
        "# Definir los datos de entrenamiento y prueba\n",
        "X = np.array(X)\n",
        "y = np.array(y)\n",
        "X_train, X_test, y_train, y_test = train_test_split(X, y, test_size=0.25, random_state=1)\n",
        "\n",
        "# Realizar la evaluación externa con k-fold\n",
        "outer_cv = KFold(n_splits=10, shuffle=True, random_state=1)\n",
        "\n",
        "# Realizar la evaluación externa e interna\n",
        "results_svm = []\n",
        "for i, (train_index, test_index) in enumerate(tqdm(outer_cv.split(X_train))):\n",
        "    print(f\"Iteration {i+1}\")\n",
        "    inner_X_train, inner_X_val = X_train[train_index], X_train[test_index]\n",
        "    inner_y_train, inner_y_val = y_train[train_index], y_train[test_index]\n",
        "\n",
        "    random_search = RandomizedSearchCV(svm_model, svm_params, n_iter=2, random_state=42, cv=5, scoring='accuracy', verbose=2, n_jobs=-1)\n",
        "    random_search.fit(inner_X_train, inner_y_train)\n",
        "    # Realizar la evaluación interna con split normal\n",
        "    #inner_X_train, inner_X_val, inner_y_train, inner_y_val = train_test_split(X_train, y_train, test_size=0.2, random_state=1)\n",
        "    best_params = random_search.best_params_\n",
        "    inner_score = random_search.score(inner_X_val, inner_y_val)\n",
        "    y_pred = random_search.predict(inner_X_val)\n",
        "\n",
        "    # Calcular la matriz de confusión\n",
        "    cm = confusion_matrix(inner_y_val, y_pred)\n",
        "    # Calcular la sensibilidad y especificidad\n",
        "    specificity = cm[0, 0] / (cm[0, 0] + cm[0, 1])\n",
        "    sensitivity = cm[1, 1] / (cm[1, 0] + cm[1, 1])\n",
        "    precision = cm[1, 1] / (cm[1, 1] + cm[0, 1])\n",
        "\n",
        "    # Realizar la evaluación externa con k-fold cross validation\n",
        "    outer_scores = cross_val_score(random_search, X_train, y_train, cv=outer_cv, scoring='accuracy', n_jobs=-1)\n",
        "\n",
        "    #Evaluar el conjunto de prueba externa\n",
        "    y_pred_test = random_search.predict(X_test)\n",
        "    test_score = random_search.score(X_test, y_test)\n",
        "    cm_test = confusion_matrix(y_test, y_pred_test)\n",
        "    specificity_test = cm_test[0, 0] / (cm_test[0, 0] + cm_test[0, 1])\n",
        "    sensitivity_test = cm_test[1, 1] / (cm_test[1, 0] + cm_test[1, 1])\n",
        "    precision_test = cm[1, 1] / (cm[1, 1] + cm[0, 1])\n",
        "    #plot_confusion_matrix(inner_y_val,y_pred)\n",
        "\n",
        "    results_svm.append({\n",
        "    'model': svm_model,\n",
        "    'best_params': best_params,\n",
        "    'train_score': inner_score,\n",
        "    'cv_scores_mean': outer_scores.mean(),\n",
        "    'cv_scores_std': outer_scores.std(),\n",
        "    'test_score': test_score,\n",
        "    'confusion_matrix': cm_test,\n",
        "    'specificity': specificity_test,\n",
        "    'sensitivity': sensitivity_test,\n",
        "    'precision': precision_test\n",
        "})\n"
      ]
    },
    {
      "cell_type": "code",
      "execution_count": null,
      "metadata": {
        "id": "3hCLCqSF0nLG",
        "colab": {
          "base_uri": "https://localhost:8080/"
        },
        "outputId": "af7ef230-d45d-4297-c2d6-ff05c69dcd09"
      },
      "outputs": [
        {
          "output_type": "stream",
          "name": "stdout",
          "text": [
            "{'model': SVC(), 'best_params': {'kernel': 'linear', 'C': 1}, 'train_score': 0.8029197080291971, 'cv_scores_mean': 0.8313267024945858, 'cv_scores_std': 0.023347079295648117, 'test_score': 0.8391684901531729, 'confusion_matrix': array([[361,  71],\n",
            "       [ 76, 406]]), 'specificity': 0.8356481481481481, 'sensitivity': 0.8423236514522822, 'precision': 0.8285714285714286}\n",
            "{'model': SVC(), 'best_params': {'kernel': 'linear', 'C': 1}, 'train_score': 0.8467153284671532, 'cv_scores_mean': 0.8313267024945858, 'cv_scores_std': 0.023347079295648117, 'test_score': 0.8369803063457331, 'confusion_matrix': array([[358,  74],\n",
            "       [ 75, 407]]), 'specificity': 0.8287037037037037, 'sensitivity': 0.8443983402489627, 'precision': 0.8405797101449275}\n",
            "{'model': SVC(), 'best_params': {'kernel': 'linear', 'C': 1}, 'train_score': 0.864963503649635, 'cv_scores_mean': 0.8313267024945858, 'cv_scores_std': 0.023347079295648117, 'test_score': 0.8457330415754923, 'confusion_matrix': array([[362,  70],\n",
            "       [ 71, 411]]), 'specificity': 0.8379629629629629, 'sensitivity': 0.8526970954356846, 'precision': 0.8692307692307693}\n",
            "{'model': SVC(), 'best_params': {'kernel': 'linear', 'C': 1000}, 'train_score': 0.8138686131386861, 'cv_scores_mean': 0.8313267024945858, 'cv_scores_std': 0.023347079295648117, 'test_score': 0.838074398249453, 'confusion_matrix': array([[357,  75],\n",
            "       [ 73, 409]]), 'specificity': 0.8263888888888888, 'sensitivity': 0.8485477178423236, 'precision': 0.7708333333333334}\n",
            "{'model': SVC(), 'best_params': {'kernel': 'linear', 'C': 1000}, 'train_score': 0.8467153284671532, 'cv_scores_mean': 0.8313267024945858, 'cv_scores_std': 0.023347079295648117, 'test_score': 0.8424507658643327, 'confusion_matrix': array([[358,  74],\n",
            "       [ 70, 412]]), 'specificity': 0.8287037037037037, 'sensitivity': 0.8547717842323651, 'precision': 0.837037037037037}\n",
            "{'model': SVC(), 'best_params': {'kernel': 'linear', 'C': 1000}, 'train_score': 0.7956204379562044, 'cv_scores_mean': 0.8313267024945858, 'cv_scores_std': 0.023347079295648117, 'test_score': 0.8369803063457331, 'confusion_matrix': array([[358,  74],\n",
            "       [ 75, 407]]), 'specificity': 0.8287037037037037, 'sensitivity': 0.8443983402489627, 'precision': 0.7714285714285715}\n",
            "{'model': SVC(), 'best_params': {'kernel': 'linear', 'C': 1}, 'train_score': 0.8284671532846716, 'cv_scores_mean': 0.8313267024945858, 'cv_scores_std': 0.023347079295648117, 'test_score': 0.8413566739606126, 'confusion_matrix': array([[359,  73],\n",
            "       [ 72, 410]]), 'specificity': 0.8310185185185185, 'sensitivity': 0.8506224066390041, 'precision': 0.8549618320610687}\n",
            "{'model': SVC(), 'best_params': {'kernel': 'linear', 'C': 1000}, 'train_score': 0.8138686131386861, 'cv_scores_mean': 0.8313267024945858, 'cv_scores_std': 0.023347079295648117, 'test_score': 0.8402625820568927, 'confusion_matrix': array([[367,  65],\n",
            "       [ 81, 401]]), 'specificity': 0.8495370370370371, 'sensitivity': 0.8319502074688797, 'precision': 0.8529411764705882}\n",
            "{'model': SVC(), 'best_params': {'kernel': 'linear', 'C': 1}, 'train_score': 0.864963503649635, 'cv_scores_mean': 0.8313267024945858, 'cv_scores_std': 0.023347079295648117, 'test_score': 0.8457330415754923, 'confusion_matrix': array([[365,  67],\n",
            "       [ 74, 408]]), 'specificity': 0.8449074074074074, 'sensitivity': 0.8464730290456431, 'precision': 0.8551724137931035}\n",
            "{'model': SVC(), 'best_params': {'kernel': 'linear', 'C': 1000}, 'train_score': 0.8351648351648352, 'cv_scores_mean': 0.8313267024945858, 'cv_scores_std': 0.023347079295648117, 'test_score': 0.8424507658643327, 'confusion_matrix': array([[363,  69],\n",
            "       [ 75, 407]]), 'specificity': 0.8402777777777778, 'sensitivity': 0.8443983402489627, 'precision': 0.8461538461538461}\n"
          ]
        }
      ],
      "source": [
        "# Print the results\n",
        "for result in results_svm:\n",
        "    print(result)"
      ]
    },
    {
      "cell_type": "code",
      "execution_count": null,
      "metadata": {
        "id": "7JuRj_fF0roW",
        "colab": {
          "base_uri": "https://localhost:8080/",
          "height": 416
        },
        "outputId": "e67eb6a0-5969-4eaf-e729-bbdfd6b4ce65"
      },
      "outputs": [
        {
          "output_type": "display_data",
          "data": {
            "text/plain": [
              "<Figure size 1200x400 with 4 Axes>"
            ],
            "image/png": "[encoded data removed]"
          },
          "metadata": {}
        }
      ],
      "source": [
        "import matplotlib.pyplot as plt\n",
        "\n",
        "# Extract the results from results_knn\n",
        "specificity = [r['specificity'] for r in results_svm]\n",
        "sensitivity = [r['sensitivity'] for r in results_svm]\n",
        "test_scores = [result['test_score'] for result in results_svm]\n",
        "precision = [r['precision'] for r in results_svm]\n",
        "\n",
        "# Create a new figure with subplots for each metric\n",
        "fig, axes = plt.subplots(nrows=1, ncols=4, figsize=(12, 4))\n",
        "\n",
        "# Plot the values for each metric\n",
        "axes[0].plot(range(1, 11), specificity, 'bo-')\n",
        "axes[0].set_title('Especificidad')\n",
        "axes[0].yaxis.set_major_formatter('{:.2f}'.format)\n",
        "axes[1].plot(range(1, 11), sensitivity, 'go-')\n",
        "axes[1].set_title('Sensibilidad')\n",
        "axes[1].yaxis.set_major_formatter('{:.2f}'.format)\n",
        "axes[2].plot(range(1, 11), test_scores, 'ro-')\n",
        "axes[2].set_title('Exactitud_test')\n",
        "axes[2].yaxis.set_major_formatter('{:.2f}'.format)\n",
        "axes[3].plot(range(1, 11), precision, 'yo-', label='Precision')\n",
        "axes[3].set_title('Precisión')\n",
        "axes[3].yaxis.set_major_formatter('{:.2f}'.format)\n",
        "\n",
        "# Add legend to the plot\n",
        "fig.legend(loc='center right')\n",
        "\n",
        "# Set common axis labels and a main title\n",
        "fig.suptitle('Evaluación del rendimiento del modelo SVM Lineal en el conjunto de prueba')\n",
        "fig.text(0.5, 0.04, 'Fold', ha='center')\n",
        "fig.text(0.04, 0.5, 'Score', va='center', rotation='vertical')\n",
        "\n",
        "# Show the plot\n",
        "plt.show()\n"
      ]
    },
    {
      "cell_type": "code",
      "execution_count": null,
      "metadata": {
        "id": "GWRgOdQx0vea"
      },
      "outputs": [],
      "source": [
        "test_scores_mean = round(np.mean(test_scores), 2)\n",
        "#train_scores_mean = round(np.mean(train_scores), 2)\n",
        "specificity_scores_mean = round(np.mean(specificity), 2)\n",
        "sensitivity_scores_mean = round(np.mean(sensitivity), 2)\n",
        "precision_mean = round(np.mean(precision), 2)\n",
        "\n",
        "import pandas as pd\n",
        "\n",
        "# Crear un diccionario con los resultados\n",
        "results_dict = {\n",
        "    'Exáctitud': [test_scores_mean],\n",
        "    'Sensibilidad': [sensitivity_scores_mean],\n",
        "    'Especificidad': [specificity_scores_mean],\n",
        "    'Precisión': [precision_mean]\n",
        "}\n",
        "\n",
        "# Crear un dataframe con los resultados\n",
        "results_df = pd.DataFrame(results_dict)"
      ]
    },
    {
      "cell_type": "code",
      "source": [
        "print(results_df)"
      ],
      "metadata": {
        "colab": {
          "base_uri": "https://localhost:8080/"
        },
        "id": "xtIHGSZP2FWx",
        "outputId": "8f782e0f-3333-4626-9fe5-ac724d9f0bab"
      },
      "execution_count": null,
      "outputs": [
        {
          "output_type": "stream",
          "name": "stdout",
          "text": [
            "   Exáctitud  Sensibilidad  Especificidad  Precisión\n",
            "0       0.84          0.85           0.84       0.83\n"
          ]
        }
      ]
    },
    {
      "cell_type": "markdown",
      "source": [
        "## SVM RBF"
      ],
      "metadata": {
        "id": "klgZla9ImDCe"
      }
    },
    {
      "cell_type": "code",
      "execution_count": null,
      "metadata": {
        "colab": {
          "background_save": true
        },
        "id": "rCC-jn_lqBWz"
      },
      "outputs": [],
      "source": [
        "from sklearn.model_selection import cross_val_score, RandomizedSearchCV, train_test_split, KFold\n",
        "from sklearn.svm import SVC\n",
        "from sklearn.neighbors import KNeighborsClassifier\n",
        "import numpy as np\n",
        "\n",
        "# Definir los parámetros del modelo y los rangos de búsqueda\n",
        "svm_params = {\n",
        "    'C': [0.1, 1, 10, 100, 1000],\n",
        "    'gamma': [0.0001, 0.001, 0.1, 1],\n",
        "    'kernel': ['rbf']\n",
        "}\n",
        "svm_model = SVC()\n",
        "\n",
        "# Definir los datos de entrenamiento y prueba\n",
        "#X = np.array(X)\n",
        "#y = np.array(y)\n",
        "#X_train, X_test, y_train, y_test = train_test_split(X, y, test_size=0.25, random_state=1)\n",
        "\n",
        "# Realizar la evaluación externa con k-fold\n",
        "outer_cv = KFold(n_splits=10, shuffle=True, random_state=1)\n",
        "\n",
        "# Realizar la evaluación externa e interna\n",
        "results_svm = []\n",
        "for i, (train_index, test_index) in enumerate(tqdm(outer_cv.split(X_train))):\n",
        "    print(f\"Iteration {i+1}\")\n",
        "    inner_X_train, inner_X_val = X_train[train_index], X_train[test_index]\n",
        "    inner_y_train, inner_y_val = y_train[train_index], y_train[test_index]\n",
        "\n",
        "    random_search = RandomizedSearchCV(svm_model, svm_params, n_iter=10, random_state=42, cv=5, scoring='accuracy', verbose=2)\n",
        "    random_search.fit(inner_X_train, inner_y_train)\n",
        "    # Realizar la evaluación interna con split normal\n",
        "    #inner_X_train, inner_X_val, inner_y_train, inner_y_val = train_test_split(X_train, y_train, test_size=0.2, random_state=1)\n",
        "    best_params = random_search.best_params_\n",
        "    inner_score = random_search.score(inner_X_val, inner_y_val)\n",
        "    y_pred = random_search.predict(inner_X_val)\n",
        "\n",
        "    # Calcular la matriz de confusión\n",
        "    cm = confusion_matrix(inner_y_val, y_pred)\n",
        "    # Calcular la sensibilidad y especificidad\n",
        "    specificity = cm[0, 0] / (cm[0, 0] + cm[0, 1])\n",
        "    sensitivity = cm[1, 1] / (cm[1, 0] + cm[1, 1])\n",
        "    precision = cm[1, 1] / (cm[1, 1] + cm[0, 1])\n",
        "\n",
        "    # Realizar la evaluación externa con k-fold cross validation\n",
        "    outer_scores = cross_val_score(random_search, X_train, y_train, cv=outer_cv, scoring='accuracy')\n",
        "\n",
        "    #Evaluar el conjunto de prueba externa\n",
        "    y_pred_test = random_search.predict(X_test)\n",
        "    test_score = random_search.score(X_test, y_test)\n",
        "    cm_test = confusion_matrix(y_test, y_pred_test)\n",
        "    specificity_test = cm_test[0, 0] / (cm_test[0, 0] + cm_test[0, 1])\n",
        "    sensitivity_test = cm_test[1, 1] / (cm_test[1, 0] + cm_test[1, 1])\n",
        "    precision_test = cm[1, 1] / (cm[1, 1] + cm[0, 1])\n",
        "    #plot_confusion_matrix(inner_y_val,y_pred)\n",
        "\n",
        "    results_svm.append({\n",
        "    'model': svm_model,\n",
        "    'best_params': best_params,\n",
        "    'train_score': inner_score,\n",
        "    'cv_scores_mean': outer_scores.mean(),\n",
        "    'cv_scores_std': outer_scores.std(),\n",
        "    'test_score': test_score,\n",
        "    'confusion_matrix': cm_test,\n",
        "    'specificity': specificity_test,\n",
        "    'sensitivity': sensitivity_test,\n",
        "    'precision': precision_test\n",
        "})\n"
      ]
    },
    {
      "cell_type": "code",
      "execution_count": null,
      "metadata": {
        "colab": {
          "background_save": true
        },
        "id": "9eNFJoEdthDP",
        "outputId": "03f6887f-0bd6-461d-c8f9-2db483339c4e"
      },
      "outputs": [
        {
          "name": "stdout",
          "output_type": "stream",
          "text": [
            "{'model': SVC(), 'best_params': {'kernel': 'rbf', 'gamma': 0.0001, 'C': 10}, 'train_score': 0.7554744525547445, 'cv_scores_mean': 0.7747426539397343, 'cv_scores_std': 0.023018737670232502, 'test_score': 0.7986870897155361, 'confusion_matrix': array([[346,  86],\n",
            "       [ 98, 384]]), 'specificity': 0.8009259259259259, 'sensitivity': 0.7966804979253111, 'precision': 0.7883211678832117}\n",
            "{'model': SVC(), 'best_params': {'kernel': 'rbf', 'gamma': 0.0001, 'C': 10}, 'train_score': 0.7554744525547445, 'cv_scores_mean': 0.7747426539397343, 'cv_scores_std': 0.023018737670232502, 'test_score': 0.7888402625820569, 'confusion_matrix': array([[336,  96],\n",
            "       [ 97, 385]]), 'specificity': 0.7777777777777778, 'sensitivity': 0.7987551867219918, 'precision': 0.7379310344827587}\n",
            "{'model': SVC(), 'best_params': {'kernel': 'rbf', 'gamma': 0.0001, 'C': 10}, 'train_score': 0.7883211678832117, 'cv_scores_mean': 0.7747426539397343, 'cv_scores_std': 0.023018737670232502, 'test_score': 0.787746170678337, 'confusion_matrix': array([[345,  87],\n",
            "       [107, 375]]), 'specificity': 0.7986111111111112, 'sensitivity': 0.7780082987551867, 'precision': 0.7819548872180451}\n",
            "{'model': SVC(), 'best_params': {'kernel': 'rbf', 'gamma': 0.0001, 'C': 10}, 'train_score': 0.7846715328467153, 'cv_scores_mean': 0.7747426539397343, 'cv_scores_std': 0.023018737670232502, 'test_score': 0.7833698030634574, 'confusion_matrix': array([[336,  96],\n",
            "       [102, 380]]), 'specificity': 0.7777777777777778, 'sensitivity': 0.7883817427385892, 'precision': 0.7573529411764706}\n",
            "{'model': SVC(), 'best_params': {'kernel': 'rbf', 'gamma': 0.0001, 'C': 10}, 'train_score': 0.7737226277372263, 'cv_scores_mean': 0.7747426539397343, 'cv_scores_std': 0.023018737670232502, 'test_score': 0.7844638949671773, 'confusion_matrix': array([[346,  86],\n",
            "       [111, 371]]), 'specificity': 0.8009259259259259, 'sensitivity': 0.7697095435684648, 'precision': 0.7795275590551181}\n",
            "{'model': SVC(), 'best_params': {'kernel': 'rbf', 'gamma': 0.0001, 'C': 10}, 'train_score': 0.7408759124087592, 'cv_scores_mean': 0.7747426539397343, 'cv_scores_std': 0.023018737670232502, 'test_score': 0.7844638949671773, 'confusion_matrix': array([[337,  95],\n",
            "       [102, 380]]), 'specificity': 0.7800925925925926, 'sensitivity': 0.7883817427385892, 'precision': 0.725925925925926}\n",
            "{'model': SVC(), 'best_params': {'kernel': 'rbf', 'gamma': 0.0001, 'C': 0.1}, 'train_score': 0.7664233576642335, 'cv_scores_mean': 0.7747426539397343, 'cv_scores_std': 0.023018737670232502, 'test_score': 0.8019693654266958, 'confusion_matrix': array([[303, 129],\n",
            "       [ 52, 430]]), 'specificity': 0.7013888888888888, 'sensitivity': 0.8921161825726142, 'precision': 0.7345679012345679}\n",
            "{'model': SVC(), 'best_params': {'kernel': 'rbf', 'gamma': 0.0001, 'C': 0.1}, 'train_score': 0.8248175182481752, 'cv_scores_mean': 0.7747426539397343, 'cv_scores_std': 0.023018737670232502, 'test_score': 0.799781181619256, 'confusion_matrix': array([[305, 127],\n",
            "       [ 56, 426]]), 'specificity': 0.7060185185185185, 'sensitivity': 0.8838174273858921, 'precision': 0.803680981595092}\n",
            "{'model': SVC(), 'best_params': {'kernel': 'rbf', 'gamma': 0.0001, 'C': 10}, 'train_score': 0.7627737226277372, 'cv_scores_mean': 0.7747426539397343, 'cv_scores_std': 0.023018737670232502, 'test_score': 0.7778993435448578, 'confusion_matrix': array([[337,  95],\n",
            "       [108, 374]]), 'specificity': 0.7800925925925926, 'sensitivity': 0.7759336099585062, 'precision': 0.7586206896551724}\n",
            "{'model': SVC(), 'best_params': {'kernel': 'rbf', 'gamma': 0.0001, 'C': 10}, 'train_score': 0.7948717948717948, 'cv_scores_mean': 0.7747426539397343, 'cv_scores_std': 0.023018737670232502, 'test_score': 0.7921225382932167, 'confusion_matrix': array([[345,  87],\n",
            "       [103, 379]]), 'specificity': 0.7986111111111112, 'sensitivity': 0.7863070539419087, 'precision': 0.7969924812030075}\n"
          ]
        }
      ],
      "source": [
        "# Print the results\n",
        "for result in results_svm:\n",
        "    print(result)"
      ]
    },
    {
      "cell_type": "code",
      "execution_count": null,
      "metadata": {
        "colab": {
          "background_save": true
        },
        "id": "xlQrSk6u0A0v",
        "outputId": "9af2409f-7178-46c3-bd27-624a8117016e"
      },
      "outputs": [
        {
          "data": {
            "image/png": "[encoded data removed]",
            "text/plain": [
              "<Figure size 1200x400 with 4 Axes>"
            ]
          },
          "metadata": {},
          "output_type": "display_data"
        }
      ],
      "source": [
        "import matplotlib.pyplot as plt\n",
        "\n",
        "# Extract the results from results_knn\n",
        "specificity = [r['specificity'] for r in results_svm]\n",
        "sensitivity = [r['sensitivity'] for r in results_svm]\n",
        "test_scores = [result['test_score'] for result in results_svm]\n",
        "precision = [r['precision'] for r in results_svm]\n",
        "\n",
        "# Create a new figure with subplots for each metric\n",
        "fig, axes = plt.subplots(nrows=1, ncols=4, figsize=(12, 4))\n",
        "\n",
        "# Plot the values for each metric\n",
        "axes[0].plot(range(1, 11), specificity, 'bo-')\n",
        "axes[0].set_title('Especificidad')\n",
        "axes[0].yaxis.set_major_formatter('{:.2f}'.format)\n",
        "axes[1].plot(range(1, 11), sensitivity, 'go-')\n",
        "axes[1].set_title('Sensibilidad')\n",
        "axes[1].yaxis.set_major_formatter('{:.2f}'.format)\n",
        "axes[2].plot(range(1, 11), test_scores, 'ro-')\n",
        "axes[2].set_title('Exactitud_test')\n",
        "axes[2].yaxis.set_major_formatter('{:.2f}'.format)\n",
        "axes[3].plot(range(1, 11), precision, 'yo-', label='Precision')\n",
        "axes[3].set_title('Precisión')\n",
        "axes[3].yaxis.set_major_formatter('{:.2f}'.format)\n",
        "\n",
        "# Add legend to the plot\n",
        "fig.legend(loc='center right')\n",
        "\n",
        "# Set common axis labels and a main title\n",
        "fig.suptitle('Evaluación del rendimiento del modelo SVM RBF en el conjunto de prueba')\n",
        "fig.text(0.5, 0.04, 'Fold', ha='center')\n",
        "fig.text(0.04, 0.5, 'Score', va='center', rotation='vertical')\n",
        "\n",
        "# Show the plot\n",
        "plt.show()\n"
      ]
    },
    {
      "cell_type": "code",
      "execution_count": null,
      "metadata": {
        "colab": {
          "background_save": true
        },
        "id": "Qe6aJTfl0ROk",
        "outputId": "bed3de60-2666-45c9-b0c6-a17853dccd9a"
      },
      "outputs": [
        {
          "name": "stdout",
          "output_type": "stream",
          "text": [
            "   Exáctitud  Sensibilidad  Especificidad  Precisión\n",
            "0       0.79          0.81           0.77       0.77\n"
          ]
        }
      ],
      "source": [
        "test_scores_mean = round(np.mean(test_scores), 2)\n",
        "#train_scores_mean = round(np.mean(train_scores), 2)\n",
        "specificity_scores_mean = round(np.mean(specificity), 2)\n",
        "sensitivity_scores_mean = round(np.mean(sensitivity), 2)\n",
        "precision_mean = round(np.mean(precision), 2)\n",
        "\n",
        "import pandas as pd\n",
        "\n",
        "# Crear un diccionario con los resultados\n",
        "results_dict = {\n",
        "    'Exáctitud': [test_scores_mean],\n",
        "    'Sensibilidad': [sensitivity_scores_mean],\n",
        "    'Especificidad': [specificity_scores_mean],\n",
        "    'Precisión': [precision_mean]\n",
        "}\n",
        "\n",
        "# Crear un dataframe con los resultados\n",
        "results_df = pd.DataFrame(results_dict)\n",
        "\n",
        "# Mostrar el dataframe\n",
        "print(results_df)"
      ]
    },
    {
      "cell_type": "markdown",
      "source": [
        "## KNN"
      ],
      "metadata": {
        "id": "QfsgPNptmbU4"
      }
    },
    {
      "cell_type": "code",
      "execution_count": null,
      "metadata": {
        "colab": {
          "background_save": true
        },
        "id": "UCMwAwMVVtP_"
      },
      "outputs": [],
      "source": [
        "#  Realizar la evaluación externa e interna\n",
        "from sklearn.model_selection import RandomizedSearchCV\n",
        "from sklearn.neighbors import KNeighborsClassifier\n",
        "from sklearn.model_selection import train_test_split, KFold, cross_val_score\n",
        "from sklearn.metrics import confusion_matrix\n",
        "\n",
        "knn_params = {\n",
        "    'n_neighbors': [1, 2, 3, 4, 5, 6, 7, 8, 9, 10],\n",
        "    'algorithm': ['auto', 'ball_tree', 'kd_tree', 'brute'],\n",
        "    'p': [1,2]\n",
        "}\n",
        "knn_model = KNeighborsClassifier()\n",
        "\n",
        "# Definir los datos de entrenamiento y prueba\n",
        "X = np.array(X)\n",
        "y = np.array(y)\n",
        "X_train, X_test, y_train, y_test = train_test_split(X, y, test_size=0.25, random_state=1)\n",
        "\n",
        "# Realizar la evaluación externa con k-fold\n",
        "outer_cv = KFold(n_splits=10, shuffle=True, random_state=1)\n",
        "results_knn = []\n",
        "for i, (train_index, test_index) in enumerate(outer_cv.split(X_train)):\n",
        "    print(f\"Iteration {i+1}\")\n",
        "    inner_X_train, inner_X_val = X_train[train_index], X_train[test_index]\n",
        "    inner_y_train, inner_y_val = y_train[train_index], y_train[test_index]\n",
        "\n",
        "    random_search_knn = RandomizedSearchCV(knn_model, knn_params, n_iter=20, random_state=42, cv=5, scoring='accuracy', verbose=2)\n",
        "    random_search_knn.fit(inner_X_train, inner_y_train)\n",
        "    best_params = random_search_knn.best_params_\n",
        "    inner_score = random_search_knn.score(inner_X_val, inner_y_val)\n",
        "    y_pred = random_search_knn.predict(inner_X_val)\n",
        "\n",
        "    # Calcular la matriz de confusión\n",
        "    cm = confusion_matrix(inner_y_val, y_pred)\n",
        "    # Calcular la sensibilidad y especificidad\n",
        "    specificity = cm[0, 0] / (cm[0, 0] + cm[0, 1])\n",
        "    sensitivity = cm[1, 1] / (cm[1, 0] + cm[1, 1])\n",
        "    precision = cm[1, 1] / (cm[1, 1] + cm[0, 1])\n",
        "\n",
        "    # Realizar la evaluación externa con k-fold cross validation\n",
        "    outer_scores = cross_val_score(random_search_knn, inner_X_train, inner_y_train, cv=5, scoring='accuracy')\n",
        "\n",
        "    # Evaluar en conjunto de prueba externa\n",
        "    y_pred_test = random_search_knn.predict(X_test)\n",
        "    test_score = random_search_knn.score(X_test, y_test)\n",
        "    cm_test = confusion_matrix(y_test, y_pred_test)\n",
        "    specificity_test = cm_test[0, 0] / (cm_test[0, 0] + cm_test[0, 1])\n",
        "    sensitivity_test = cm_test[1, 1] / (cm_test[1, 0] + cm_test[1, 1])\n",
        "    precision_test = cm[1, 1] / (cm[1, 1] + cm[0, 1])\n",
        "\n",
        "    results_knn.append({\n",
        "        'model': knn_model,\n",
        "        'best_params': best_params,\n",
        "        'train_score': inner_score,\n",
        "        'cv_scores_mean': outer_scores.mean(),\n",
        "        'cv_scores_std': outer_scores.std(),\n",
        "        'test_score': test_score,\n",
        "        'confusion_matrix': cm_test,\n",
        "        'specificity': specificity_test,\n",
        "        'sensitivity': sensitivity_test,\n",
        "        'precision': precision_test\n",
        "    })"
      ]
    },
    {
      "cell_type": "code",
      "execution_count": null,
      "metadata": {
        "colab": {
          "background_save": true
        },
        "id": "6d77I3mkX1-M",
        "outputId": "f8516682-bed3-4267-f245-664c1a86902e"
      },
      "outputs": [
        {
          "name": "stdout",
          "output_type": "stream",
          "text": [
            "{'model': KNeighborsClassifier(), 'best_params': {'p': 1, 'n_neighbors': 10, 'algorithm': 'auto'}, 'train_score': 0.7737226277372263, 'cv_scores_mean': 0.8141987829614605, 'cv_scores_std': 0.02074922815828708, 'test_score': 0.8227571115973742, 'confusion_matrix': array([[379,  53],\n",
            "       [109, 373]]), 'specificity': 0.8773148148148148, 'sensitivity': 0.7738589211618258, 'precision': 0.8387096774193549}\n",
            "{'model': KNeighborsClassifier(), 'best_params': {'p': 1, 'n_neighbors': 10, 'algorithm': 'auto'}, 'train_score': 0.8357664233576643, 'cv_scores_mean': 0.8154158215010142, 'cv_scores_std': 0.015920013687909577, 'test_score': 0.8238512035010941, 'confusion_matrix': array([[373,  59],\n",
            "       [102, 380]]), 'specificity': 0.8634259259259259, 'sensitivity': 0.7883817427385892, 'precision': 0.8321167883211679}\n",
            "{'model': KNeighborsClassifier(), 'best_params': {'p': 1, 'n_neighbors': 10, 'algorithm': 'auto'}, 'train_score': 0.7992700729927007, 'cv_scores_mean': 0.8154158215010142, 'cv_scores_std': 0.010182474967960334, 'test_score': 0.8216630196936543, 'confusion_matrix': array([[374,  58],\n",
            "       [105, 377]]), 'specificity': 0.8657407407407407, 'sensitivity': 0.7821576763485477, 'precision': 0.819672131147541}\n",
            "{'model': KNeighborsClassifier(), 'best_params': {'p': 1, 'n_neighbors': 10, 'algorithm': 'auto'}, 'train_score': 0.8211678832116789, 'cv_scores_mean': 0.8113590263691683, 'cv_scores_std': 0.010960856864994956, 'test_score': 0.8293216630196937, 'confusion_matrix': array([[375,  57],\n",
            "       [ 99, 383]]), 'specificity': 0.8680555555555556, 'sensitivity': 0.7946058091286307, 'precision': 0.8174603174603174}\n",
            "{'model': KNeighborsClassifier(), 'best_params': {'p': 1, 'n_neighbors': 10, 'algorithm': 'auto'}, 'train_score': 0.8540145985401459, 'cv_scores_mean': 0.8117647058823529, 'cv_scores_std': 0.008154057299083878, 'test_score': 0.8271334792122538, 'confusion_matrix': array([[377,  55],\n",
            "       [103, 379]]), 'specificity': 0.8726851851851852, 'sensitivity': 0.7863070539419087, 'precision': 0.8974358974358975}\n",
            "{'model': KNeighborsClassifier(), 'best_params': {'p': 1, 'n_neighbors': 10, 'algorithm': 'auto'}, 'train_score': 0.7992700729927007, 'cv_scores_mean': 0.8227180527383366, 'cv_scores_std': 0.009651421706588507, 'test_score': 0.8161925601750547, 'confusion_matrix': array([[366,  66],\n",
            "       [102, 380]]), 'specificity': 0.8472222222222222, 'sensitivity': 0.7883817427385892, 'precision': 0.8130081300813008}\n",
            "{'model': KNeighborsClassifier(), 'best_params': {'p': 2, 'n_neighbors': 7, 'algorithm': 'ball_tree'}, 'train_score': 0.8248175182481752, 'cv_scores_mean': 0.8121703853955375, 'cv_scores_std': 0.011445627569708626, 'test_score': 0.8304157549234136, 'confusion_matrix': array([[365,  67],\n",
            "       [ 88, 394]]), 'specificity': 0.8449074074074074, 'sensitivity': 0.8174273858921162, 'precision': 0.8484848484848485}\n",
            "{'model': KNeighborsClassifier(), 'best_params': {'p': 1, 'n_neighbors': 10, 'algorithm': 'auto'}, 'train_score': 0.8248175182481752, 'cv_scores_mean': 0.8085192697768763, 'cv_scores_std': 0.005532730911556146, 'test_score': 0.8205689277899344, 'confusion_matrix': array([[372,  60],\n",
            "       [104, 378]]), 'specificity': 0.8611111111111112, 'sensitivity': 0.7842323651452282, 'precision': 0.8778625954198473}\n",
            "{'model': KNeighborsClassifier(), 'best_params': {'p': 1, 'n_neighbors': 10, 'algorithm': 'auto'}, 'train_score': 0.8467153284671532, 'cv_scores_mean': 0.8028397565922921, 'cv_scores_std': 0.006715190814298915, 'test_score': 0.8205689277899344, 'confusion_matrix': array([[371,  61],\n",
            "       [103, 379]]), 'specificity': 0.8587962962962963, 'sensitivity': 0.7863070539419087, 'precision': 0.8656716417910447}\n",
            "{'model': KNeighborsClassifier(), 'best_params': {'p': 2, 'n_neighbors': 8, 'algorithm': 'ball_tree'}, 'train_score': 0.7948717948717948, 'cv_scores_mean': 0.8069762094423139, 'cv_scores_std': 0.0036425369172304865, 'test_score': 0.8216630196936543, 'confusion_matrix': array([[379,  53],\n",
            "       [110, 372]]), 'specificity': 0.8773148148148148, 'sensitivity': 0.7717842323651453, 'precision': 0.8264462809917356}\n"
          ]
        }
      ],
      "source": [
        "# Print the results\n",
        "for result in results_knn:\n",
        "    print(result)"
      ]
    },
    {
      "cell_type": "code",
      "execution_count": null,
      "metadata": {
        "colab": {
          "background_save": true
        },
        "id": "mpJcc45DqFJ_",
        "outputId": "eba06265-042e-4cbb-cf4f-1c88179e4d2a"
      },
      "outputs": [
        {
          "data": {
            "image/png": "[encoded data removed]",
            "text/plain": [
              "<Figure size 1200x400 with 4 Axes>"
            ]
          },
          "metadata": {},
          "output_type": "display_data"
        }
      ],
      "source": [
        "import matplotlib.pyplot as plt\n",
        "\n",
        "# Extract the results from results_knn\n",
        "specificity = [r['specificity'] for r in results_knn]\n",
        "sensitivity = [r['sensitivity'] for r in results_knn]\n",
        "test_scores = [result['test_score'] for result in results_knn]\n",
        "precision = [r['precision'] for r in results_knn]\n",
        "\n",
        "# Create a new figure with subplots for each metric\n",
        "fig, axes = plt.subplots(nrows=1, ncols=4, figsize=(12, 4))\n",
        "\n",
        "# Plot the values for each metric\n",
        "axes[0].plot(range(1, 11), specificity, 'bo-')\n",
        "axes[0].set_title('Especificidad')\n",
        "axes[0].yaxis.set_major_formatter('{:.2f}'.format)\n",
        "axes[1].plot(range(1, 11), sensitivity, 'go-')\n",
        "axes[1].set_title('Sensibilidad')\n",
        "axes[1].yaxis.set_major_formatter('{:.2f}'.format)\n",
        "axes[2].plot(range(1, 11), test_scores, 'ro-')\n",
        "axes[2].set_title('Exactitud_test')\n",
        "axes[2].yaxis.set_major_formatter('{:.2f}'.format)\n",
        "axes[3].plot(range(1, 11), precision, 'yo-', label='Precision')\n",
        "axes[3].set_title('Precisión')\n",
        "axes[3].yaxis.set_major_formatter('{:.2f}'.format)\n",
        "\n",
        "# Add legend to the plot\n",
        "fig.legend(loc='center right')\n",
        "\n",
        "# Set common axis labels and a main title\n",
        "fig.suptitle('Evaluación del rendimiento del modelo KNN en el conjunto de prueba')\n",
        "fig.text(0.5, 0.04, 'Fold', ha='center')\n",
        "fig.text(0.04, 0.5, 'Score', va='center', rotation='vertical')\n",
        "\n",
        "# Show the plot\n",
        "plt.show()\n"
      ]
    },
    {
      "cell_type": "code",
      "source": [
        "test_scores_mean = round(np.mean(test_scores), 2)\n",
        "#train_scores_mean = round(np.mean(train_scores), 2)\n",
        "specificity_scores_mean = round(np.mean(specificity), 2)\n",
        "sensitivity_scores_mean = round(np.mean(sensitivity), 2)\n",
        "precision_mean = round(np.mean(precision), 2)"
      ],
      "metadata": {
        "id": "TlKbaB4Rmv2-"
      },
      "execution_count": null,
      "outputs": []
    },
    {
      "cell_type": "code",
      "execution_count": null,
      "metadata": {
        "colab": {
          "background_save": true
        },
        "id": "J4eGNKwlhYt_",
        "outputId": "a6966ea6-959e-47c1-8c99-eb6f05b753f2"
      },
      "outputs": [
        {
          "name": "stdout",
          "output_type": "stream",
          "text": [
            "   Exáctitud  Sensibilidad  Especificidad  Precisión\n",
            "0       0.82          0.79           0.86       0.84\n"
          ]
        }
      ],
      "source": [
        "import pandas as pd\n",
        "\n",
        "# Crear un diccionario con los resultados\n",
        "results_dict = {\n",
        "    'Exáctitud': [test_scores_mean],\n",
        "    'Sensibilidad': [sensitivity_scores_mean],\n",
        "    'Especificidad': [specificity_scores_mean],\n",
        "    'Precisión': [precision_mean]\n",
        "}\n",
        "\n",
        "# Crear un dataframe con los resultados\n",
        "results_df = pd.DataFrame(results_dict)\n",
        "\n",
        "# Mostrar el dataframe\n",
        "print(results_df)\n"
      ]
    }
  ],
  "metadata": {
    "colab": {
      "machine_shape": "hm",
      "provenance": []
    },
    "gpuClass": "standard",
    "kernelspec": {
      "display_name": "Python 3",
      "name": "python3"
    },
    "language_info": {
      "name": "python"
    }
  },
  "nbformat": 4,
  "nbformat_minor": 0
}